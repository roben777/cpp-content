{
 "cells": [
  {
   "cell_type": "code",
   "execution_count": 5,
   "metadata": {},
   "outputs": [],
   "source": [
    "// setup cell\n",
    "#include <iostream>\n",
    "#include <string>\n",
    "using namespace std;"
   ]
  },
  {
   "cell_type": "markdown",
   "metadata": {},
   "source": [
    "# Syntax of a while statement\n",
    "![while syntax](imgs/while-small.png)\n",
    "Evaluate expression. If true, execute statement then repeat, otherwise done. "
   ]
  },
  {
   "cell_type": "code",
   "execution_count": 2,
   "metadata": {},
   "outputs": [],
   "source": [
    "// output statement is not executed at all.\n",
    "while (false) {\n",
    "    cout << \"Hi \";\n",
    "}"
   ]
  },
  {
   "cell_type": "code",
   "execution_count": null,
   "metadata": {},
   "outputs": [],
   "source": [
    "// an infinite loop\n",
    "// no output visible because Jupyter provides the output when the cell finished running!\n",
    "while (true) {\n",
    "    cout << \"Hi \";\n",
    "}"
   ]
  },
  {
   "cell_type": "markdown",
   "metadata": {},
   "source": [
    "# Architecture of a while loop\n",
    "Before starting to write a loop statement, think about its design:\n",
    "![while design](imgs/while-design.png)"
   ]
  },
  {
   "cell_type": "markdown",
   "metadata": {},
   "source": [
    "## Example 1 - count to 100\n",
    "Write code to output 1 2 3 ... 100\n",
    "1. Identify the **control variable**: an integer variable, a counter.\n",
    "2. Determine the **initialization**: we assign value 0 (one possibility) or 1 (another suggestion) to the counter. Think of the initial state of the loop, the first execution of the loop body.\n",
    "3. Determine the **update** statement. Should change the control variable! Change counter by incrementing it by one.\n",
    "4. Determine the **boolean expression**: we have the \"end\" in mind. counter less than or equal to 100.\n",
    "5. Identify the **body** of the loop (the C++ statements): output the control (counter) variable."
   ]
  },
  {
   "cell_type": "code",
   "execution_count": 5,
   "metadata": {},
   "outputs": [
    {
     "name": "stdout",
     "output_type": "stream",
     "text": [
      "-100 -99 -98 -97 -96 -95 -94 -93 -92 -91 -90 -89 -88 -87 -86 -85 -84 -83 -82 -81 -80 -79 -78 -77 -76 -75 -74 -73 -72 -71 -70 -69 -68 -67 -66 -65 -64 -63 -62 -61 -60 -59 -58 -57 -56 -55 -54 -53 -52 -51 -50 -49 -48 -47 -46 -45 -44 -43 -42 -41 -40 -39 -38 -37 -36 -35 -34 -33 -32 -31 -30 -29 -28 -27 -26 -25 -24 -23 -22 -21 -20 -19 -18 -17 -16 -15 -14 -13 -12 -11 -10 -9 -8 -7 -6 -5 -4 -3 -2 -1 0 "
     ]
    }
   ],
   "source": [
    "int c;  // counter variable\n",
    "c = -100;  // look at the first execution of the body\n",
    "\n",
    "while (c<=0) {\n",
    "    cout << c << \" \";\n",
    "    c = c+1; // c+=1, c++, ++c,  c-=(-1)\n",
    "}"
   ]
  },
  {
   "cell_type": "markdown",
   "metadata": {},
   "source": [
    "## Example 2 - NASA count\n",
    "Write code to output 10 9 8 ... 1 0 Blast off!\n",
    "1. Identify the **control variable**: integer variable as counter.\n",
    "2. Determine the **initialization**: \n",
    "3. Determine the **update** statement. Should change the control variable!\n",
    "4. Determine the **boolean expression**: counter at zero should be the state of the last iteration. \n",
    "5. (or step 2.5) Identify the **body** of the loop (the C++ statements): print the counter.\n",
    "\n",
    "Outside of the loop, print \"blast off\"."
   ]
  },
  {
   "cell_type": "code",
   "execution_count": 6,
   "metadata": {},
   "outputs": [
    {
     "name": "stdout",
     "output_type": "stream",
     "text": [
      "10 9 8 7 6 5 4 3 2 1 0 Blast off!"
     ]
    }
   ],
   "source": [
    "// Count backwards\n",
    "int c; // control\n",
    "\n",
    "c = 10;\n",
    "while (c > -1 /*c >= 0*/ /* c <= 10 **wrong** */) {\n",
    "    cout << c << \" \";\n",
    "    c+=-1;  // c=c-1  OR  c--  OR  c-=1  OR  c+=-1\n",
    "}\n",
    "cout << \"Blast off!\";"
   ]
  },
  {
   "cell_type": "markdown",
   "metadata": {},
   "source": [
    "**Exercises**: For the following tasks, identify the control variable, the *initialization*, *the update*, and *the boolean expression* (aka the **loop invariant**).\n",
    "1. Start at 0, output counting by two up to and including 20.\n",
    "2. Output all positive integers divisible by three that are smaller than or equal to 30. Start with the largest integer.\n",
    "3. Output the first 30 terms of the series defined by $a_0 = 1$ and $a_n = a_{n-1} + 7$. "
   ]
  },
  {
   "cell_type": "markdown",
   "metadata": {},
   "source": [
    "**Answers**:\n",
    "1. Initialization: `c=0` ; update: `c += 2`; loop invariant `c<=20`.\n",
    "2. Initialization: `c=30`; update: `c -= 3`; loop invariant `c>=3`.\n",
    "3. Control variable? counter variable (i, the index of the series term) Initialization: i=0; update: i++; loop invariant i<=29."
   ]
  },
  {
   "cell_type": "markdown",
   "metadata": {},
   "source": [
    "**Exercises (c-ed)**: write C++ code for each of the exercises above. Add code cells below, as needed."
   ]
  },
  {
   "cell_type": "code",
   "execution_count": 3,
   "metadata": {},
   "outputs": [
    {
     "name": "stdout",
     "output_type": "stream",
     "text": [
      "1 8 15 22 29 36 43 50 57 64 71 78 85 92 99 106 113 120 127 134 141 148 155 162 169 176 183 190 197 204 "
     ]
    }
   ],
   "source": [
    "// code for question 3\n",
    "int i=0;\n",
    "int a=1;\n",
    "\n",
    "while (i<= 29) {\n",
    "    cout << a << \" \";\n",
    "    a += 7;\n",
    "    i++;\n",
    "}"
   ]
  },
  {
   "cell_type": "markdown",
   "metadata": {},
   "source": [
    "In Examples 1 and 2, we used the control variable to **count**. Another typical way to control a loop is to use a **sentinel** value or conditon: repeat until an expression reaches a specific value or condition.\n",
    "\n",
    "## Example 3 - sentinel controlled loop\n",
    "Read a sequence of integers. Count the number of even integers. The sequence ends with integer 0 (not part of the sequence). Value $0$ is the sentinel value!"
   ]
  },
  {
   "cell_type": "code",
   "execution_count": 2,
   "metadata": {},
   "outputs": [
    {
     "name": "stdout",
     "output_type": "stream",
     "text": [
      "-3 2 5 6 10 -44 -3 0\n",
      "The number of even integers in the sequence is 4"
     ]
    }
   ],
   "source": [
    "// APPLY the procedure (steps 1-5) to design the code:\n",
    "// 1) control variable: integer variable that reads each integer from the sequence\n",
    "// 2.5) work to be done: count even integers. The control variable should have the first number \n",
    "// in the sequence during the first iteration of the loop\n",
    "// 2) intialize: read the first number\n",
    "// 3) the second iteration of the loop should have the next number in the sequence, so \n",
    "//    the update is to read the control variable from cin\n",
    "// 4) we stop when the number in the sequence equals 0, so that gives us the test expression \\\n",
    "//    in the loop.\n",
    "\n",
    "int seqn; // my control variable\n",
    "int nr_even = 0; // number of even integers (output)\n",
    "\n",
    "cin >> seqn;\n",
    "while (seqn != 0) {\n",
    "    // test if seqn even\n",
    "    if (seqn % 2 == 0) {\n",
    "        nr_even++;\n",
    "    }\n",
    "    \n",
    "    // update\n",
    "    cin >> seqn;\n",
    "}\n",
    "cout << \"The number of even integers in the sequence is \" << nr_even;"
   ]
  },
  {
   "cell_type": "markdown",
   "metadata": {},
   "source": [
    "**Exercise**: Read a sequence of integers terminating with 0. Compute the sum of the integers."
   ]
  },
  {
   "cell_type": "code",
   "execution_count": 3,
   "metadata": {},
   "outputs": [
    {
     "name": "stdout",
     "output_type": "stream",
     "text": [
      "1 2 3 4 5 6 7 8 9 10 0\n",
      "The sum is 55"
     ]
    }
   ],
   "source": [
    "int seqn;\n",
    "int sum = 0;\n",
    "\n",
    "cin >> seqn;\n",
    "while (seqn != 0) {\n",
    "    sum += seqn;\n",
    "    cin >> seqn;\n",
    "}\n",
    "cout << \"The sum is \" << sum;"
   ]
  },
  {
   "cell_type": "markdown",
   "metadata": {},
   "source": [
    "**Exercise**: Read a sequence of integers terminating with 0. Compute the average value of the integers."
   ]
  },
  {
   "cell_type": "code",
   "execution_count": null,
   "metadata": {},
   "outputs": [],
   "source": []
  },
  {
   "cell_type": "markdown",
   "metadata": {},
   "source": [
    "## Example 4\n",
    "Read an integer $x$. If $x$ is even, divide by 2. If $x$ is odd, multiply by 3 and add 1. Repeat the process with the new number. **Claim**: the sequence converges to 1. Write a program to verify this claim.\n",
    "\n",
    "Example: 15, 46, 23, 70, 35, ..."
   ]
  },
  {
   "cell_type": "code",
   "execution_count": 5,
   "metadata": {},
   "outputs": [
    {
     "name": "stdout",
     "output_type": "stream",
     "text": [
      "1023\n",
      "1023, 3070, 1535, 4606, 2303, 6910, 3455, 10366, 5183, 15550, 7775, 23326, 11663, 34990, 17495, 52486, 26243, 78730, 39365, 118096, 59048, 29524, 14762, 7381, 22144, 11072, 5536, 2768, 1384, 692, 346, 173, 520, 260, 130, 65, 196, 98, 49, 148, 74, 37, 112, 56, 28, 14, 7, 22, 11, 34, 17, 52, 26, 13, 40, 20, 10, 5, 16, 8, 4, 2, 1"
     ]
    }
   ],
   "source": [
    "int x;\n",
    "cin >> x;  // initialization\n",
    "\n",
    "// loop?\n",
    "// x is the control variable (sentinel controlled, 1 is the sentinel)\n",
    "while (x != 1) {  \n",
    "    // output !!\n",
    "    cout << x << \", \";\n",
    "    \n",
    "    // update \n",
    "    if (x % 2 == 0) {\n",
    "        x = x/2;\n",
    "    } else {\n",
    "        x = x*3 + 1;\n",
    "    }\n",
    "}\n",
    "cout << x;\n"
   ]
  },
  {
   "cell_type": "markdown",
   "metadata": {},
   "source": [
    "# For loops\n",
    "![for syntax](imgs/for.png)\n"
   ]
  },
  {
   "cell_type": "markdown",
   "metadata": {},
   "source": [
    "## Example\n",
    "Rewrite Example 1 using a **for loop**."
   ]
  },
  {
   "cell_type": "code",
   "execution_count": 6,
   "metadata": {},
   "outputs": [
    {
     "name": "stdout",
     "output_type": "stream",
     "text": [
      "1 2 3 4 5 6 7 8 9 10 11 12 13 14 15 16 17 18 19 20 21 22 23 24 25 26 27 28 29 30 31 32 33 34 35 36 37 38 39 40 41 42 43 44 45 46 47 48 49 50 51 52 53 54 55 56 57 58 59 60 61 62 63 64 65 66 67 68 69 70 71 72 73 74 75 76 77 78 79 80 81 82 83 84 85 86 87 88 89 90 91 92 93 94 95 96 97 98 99 100 "
     ]
    }
   ],
   "source": [
    "for (int i=1; i<=100 ; i++ ) {\n",
    "    cout << i << \" \";\n",
    "}"
   ]
  },
  {
   "cell_type": "markdown",
   "metadata": {},
   "source": [
    "Design a for loop to count down from 100 to 1:"
   ]
  },
  {
   "cell_type": "code",
   "execution_count": 7,
   "metadata": {},
   "outputs": [
    {
     "name": "stdout",
     "output_type": "stream",
     "text": [
      "100 99 98 97 96 95 94 93 92 91 90 89 88 87 86 85 84 83 82 81 80 79 78 77 76 75 74 73 72 71 70 69 68 67 66 65 64 63 62 61 60 59 58 57 56 55 54 53 52 51 50 49 48 47 46 45 44 43 42 41 40 39 38 37 36 35 34 33 32 31 30 29 28 27 26 25 24 23 22 21 20 19 18 17 16 15 14 13 12 11 10 9 8 7 6 5 4 3 2 1 "
     ]
    }
   ],
   "source": [
    "for (int i=100; i>0; i--) {\n",
    "    cout << i << \" \";\n",
    "}"
   ]
  },
  {
   "cell_type": "code",
   "execution_count": null,
   "metadata": {},
   "outputs": [],
   "source": [
    "// what is the difference between ++c and c++? Same for --: --c, c--.\n",
    "int c = 0;\n",
    "cout << (c++) << endl;\n",
    "cout << (++c) << endl;"
   ]
  },
  {
   "cell_type": "markdown",
   "metadata": {},
   "source": [
    "**Exercises**: redo the three suggested exercises from the section about the *while* loop."
   ]
  },
  {
   "cell_type": "code",
   "execution_count": null,
   "metadata": {},
   "outputs": [],
   "source": []
  },
  {
   "cell_type": "markdown",
   "metadata": {},
   "source": [
    "## Operations with strings (see also Chapter 3)\n",
    "1. Read a line of text. Count how many digits (0-9) are in the string. Use `at()`.\n",
    "\n",
    "   Syntax: `str.at(i)` returns the character at position `i` from string `str`. We can use `at` like a variable, which means we can assign expressions to it and thus we can change the contents of the string."
   ]
  },
  {
   "cell_type": "code",
   "execution_count": 10,
   "metadata": {},
   "outputs": [
    {
     "name": "stdout",
     "output_type": "stream",
     "text": [
      "The_rain in Spain stays mainly in the plain."
     ]
    }
   ],
   "source": [
    "// try function at()\n",
    "string str = \"The rain in Spain stays mainly in the plain.\";\n",
    "// cout << str.at(5);\n",
    "str.at(3) = '_';\n",
    "cout << str;"
   ]
  },
  {
   "cell_type": "markdown",
   "metadata": {},
   "source": [
    "2. The length of a string is returned by function size, or length.\n",
    "\n",
    "   Syntax: `str.length()`  or  `str.size()`"
   ]
  },
  {
   "cell_type": "code",
   "execution_count": 11,
   "metadata": {},
   "outputs": [
    {
     "name": "stdout",
     "output_type": "stream",
     "text": [
      "44"
     ]
    }
   ],
   "source": [
    "cout << str.length();"
   ]
  },
  {
   "cell_type": "code",
   "execution_count": 12,
   "metadata": {},
   "outputs": [
    {
     "name": "stdout",
     "output_type": "stream",
     "text": [
      "The_rain in Spain stays mainly in the plain!"
     ]
    }
   ],
   "source": [
    "// change the . at the end of str into an !\n",
    "str.at(str.length()-1) = '!';\n",
    "cout << str;"
   ]
  },
  {
   "cell_type": "code",
   "execution_count": null,
   "metadata": {},
   "outputs": [],
   "source": [
    "// count number of digits in a string\n",
    "string str;\n",
    "getline(cin, str);\n",
    "// use a for loop, examine each character and test if it \n",
    "// is a digit (is_digit())\n"
   ]
  },
  {
   "cell_type": "markdown",
   "metadata": {},
   "source": [
    "3. Read a line of text. Count how many occurences of \"oo\" are there? Use `find`.\n",
    "\n",
    "   Syntax: `str.find(str2, [pos])` - returns the position in string `str` where strings `str2` is present. Starts search from position `pos` (optional parameter; if not provided, assumes 0). If string `str2` is not present, returns `string::npos`."
   ]
  },
  {
   "cell_type": "code",
   "execution_count": 13,
   "metadata": {},
   "outputs": [
    {
     "name": "stdout",
     "output_type": "stream",
     "text": [
      "20"
     ]
    }
   ],
   "source": [
    "// try function find\n",
    "string str = \"I am looking for my dog. Where is she snooping?\";\n",
    "cout << str.find(\"dog\");"
   ]
  },
  {
   "cell_type": "markdown",
   "metadata": {},
   "source": [
    "4. Return a substring from a string.\n",
    "\n",
    "   Syntax: `str.substr(position, length)` - returns the substring of `str` starting at index `position` and containing at most `length` characters. The actual length of the substring returned can be less than `length` is the end of `str` is reached. "
   ]
  },
  {
   "cell_type": "code",
   "execution_count": 14,
   "metadata": {},
   "outputs": [
    {
     "name": "stdout",
     "output_type": "stream",
     "text": [
      "01234567890\n",
      "5 20\n",
      "567890"
     ]
    }
   ],
   "source": [
    "string str;\n",
    "int position, length;\n",
    "getline(cin, str); // read a string\n",
    "cin >> position >> length;  // read the starting point and the lebngth of the string\n",
    "\n",
    "cout << str.substr(position, length);"
   ]
  },
  {
   "cell_type": "markdown",
   "metadata": {},
   "source": [
    "## Example, copying strings character by character\n",
    "Given an input string, create first a copy of the input string and add characters to the copy, one by one.\n",
    "Then make a small change in the code to reverse the given string. Operator ```+``` concatenates strings."
   ]
  },
  {
   "cell_type": "code",
   "execution_count": 15,
   "metadata": {},
   "outputs": [
    {
     "name": "stdout",
     "output_type": "stream",
     "text": [
      "1234567890\n",
      "Output string: 1234567890"
     ]
    }
   ],
   "source": [
    "string input_s;\n",
    "cin >> input_s;  // read up to space\n",
    "string output_s;  // empty if not initialized\n",
    "\n",
    "for (int i=0; i < input_s.size(); i++) {\n",
    "    // append the character at position i from input_s to output_s\n",
    "    // output_s.append(1, input_s.at(i));  // also can use + operator (convert char into a string...)\n",
    "    output_s = output_s + input_s.at(i);\n",
    "}\n",
    "\n",
    "cout << \"Output string: \" << output_s;"
   ]
  },
  {
   "cell_type": "code",
   "execution_count": 16,
   "metadata": {},
   "outputs": [
    {
     "name": "stdout",
     "output_type": "stream",
     "text": [
      "1234567890\n",
      "Output string: 0987654321"
     ]
    }
   ],
   "source": [
    "// copy the reverse\n",
    "// SOLUTION 1: count backwards\n",
    "string input_s;\n",
    "cin >> input_s;  // read up to space\n",
    "string output_s;  // empty if not initialized\n",
    "\n",
    "for (int i=input_s.size()-1; i >= 0; i--) {\n",
    "    // append the character at position i from input_s to output_s\n",
    "    // output_s.append(1, input_s.at(i));  // also can use + operator (convert char into a string...)\n",
    "    output_s = output_s + input_s.at(i);\n",
    "}\n",
    "\n",
    "cout << \"Output string: \" << output_s;"
   ]
  },
  {
   "cell_type": "code",
   "execution_count": 17,
   "metadata": {},
   "outputs": [
    {
     "name": "stdout",
     "output_type": "stream",
     "text": [
      "1234567890\n",
      "Output string: 0987654321"
     ]
    }
   ],
   "source": [
    "// SOLUTION 2: count forwards\n",
    "string input_s;\n",
    "cin >> input_s;  // read up to space\n",
    "string output_s;  // empty if not initialized\n",
    "\n",
    "for (int i=0; i < input_s.size(); i++) {\n",
    "    // append the character at position i from input_s to output_s\n",
    "    // output_s.append(1, input_s.at(i));  // also can use + operator (convert char into a string...)\n",
    "    output_s = input_s.at(i) + output_s;\n",
    "}\n",
    "\n",
    "cout << \"Output string: \" << output_s;"
   ]
  },
  {
   "cell_type": "markdown",
   "metadata": {},
   "source": [
    "# Nested loops\n",
    "For and while statements may contain any legal expression in their body (C++ statements). In particular, they may contain other while or for loops.\n",
    "## Example\n",
    "Write code to draw a 10x10 rectangle of '*':\n",
    "\n",
    "```\n",
    "****\n",
    "****\n",
    "****\n",
    "****\n",
    "```\n",
    "Approach: draw the rectangle line by line. \n",
    "1. draw a line of 10 ```*```."
   ]
  },
  {
   "cell_type": "code",
   "execution_count": 18,
   "metadata": {},
   "outputs": [
    {
     "name": "stdout",
     "output_type": "stream",
     "text": [
      "**********"
     ]
    }
   ],
   "source": [
    "for (int i=0; i<10; i++) {\n",
    "    cout << '*';\n",
    "}"
   ]
  },
  {
   "cell_type": "markdown",
   "metadata": {},
   "source": [
    "2. Now, draw 10 lines of 10 each! Careful not to use the same control variables in your nested loops."
   ]
  },
  {
   "cell_type": "code",
   "execution_count": 24,
   "metadata": {},
   "outputs": [
    {
     "name": "stdout",
     "output_type": "stream",
     "text": [
      "\n",
      "********************\n",
      "********************\n",
      "********************\n",
      "********************\n",
      "********************\n",
      "********************\n",
      "********************\n",
      "********************\n",
      "********************\n",
      "********************\n",
      "********************\n",
      "********************\n",
      "********************\n",
      "********************\n",
      "********************\n",
      "********************\n",
      "********************\n",
      "********************\n",
      "********************\n",
      "********************"
     ]
    }
   ],
   "source": [
    "// count the lines\n",
    "for (int c=0; c<20; ++c) {\n",
    "    // output a line; make sure we start a new line! Where should we put the endl?\n",
    "    // Position C\n",
    "    cout << endl;\n",
    "    for (int i=0; i<20; i++) { // position B?\n",
    "        cout << '*'; // Position A?\n",
    "    }\n",
    "    // position D\n",
    "    \n",
    "}\n",
    "// Do you think it would work if we placed endl at C and not D?"
   ]
  },
  {
   "cell_type": "markdown",
   "metadata": {},
   "source": [
    "1. Change the code so that it draws a rectangle of height 10, width 20. (lines get longer, modify i)\n",
    "2. Change the code so that it draws a triangle of height 10.\n",
    "\n",
    "```\n",
    "*\n",
    "**\n",
    "***\n",
    "****\n",
    "```"
   ]
  },
  {
   "cell_type": "code",
   "execution_count": 28,
   "metadata": {},
   "outputs": [
    {
     "name": "stdout",
     "output_type": "stream",
     "text": [
      "*\n",
      "**\n",
      "***\n",
      "****\n",
      "*****\n",
      "******\n",
      "*******\n",
      "********\n",
      "*********\n",
      "**********\n"
     ]
    }
   ],
   "source": [
    "// height is 10\n",
    "for (int j=0; j<10; j++) {\n",
    "    // draw a line of 20 *\n",
    "    for (int i=0; i<j+1; i++) {\n",
    "        cout << '*';\n",
    "    }\n",
    "    cout << endl;\n",
    "}"
   ]
  },
  {
   "cell_type": "code",
   "execution_count": 29,
   "metadata": {},
   "outputs": [
    {
     "name": "stdout",
     "output_type": "stream",
     "text": [
      "*\n",
      "**\n",
      "***\n",
      "****\n",
      "*****\n",
      "******\n",
      "*******\n",
      "********\n",
      "*********\n",
      "**********\n"
     ]
    }
   ],
   "source": [
    "for (int j=1; j<=10; j++) {  // think that j counts lines\n",
    "    // draw a line of 10 *\n",
    "    for (int i=0; i<j; i++) {  // i counts the length of the line\n",
    "        cout << '*';\n",
    "    }\n",
    "    cout << endl;\n",
    "}"
   ]
  },
  {
   "cell_type": "markdown",
   "metadata": {},
   "source": [
    "**Homework**: Draw an inverted triangle that starts with the long line. See chapter 17 on zyBook, or develop as a standalone program.\n",
    "\n",
    "```\n",
    "****\n",
    "***\n",
    "**\n",
    "*\n",
    "```"
   ]
  },
  {
   "cell_type": "markdown",
   "metadata": {},
   "source": [
    "**Homework 2**: Draw a triangle that looks like an isosceles triangle. Read the dimension of the triangle from input. For example, if the input is 3, the height of the triangle should be 4 lines and the triangle should look like that:\n",
    "\n",
    "```\n",
    "   *\n",
    "  ***\n",
    " *****\n",
    "*******\n",
    "```"
   ]
  },
  {
   "cell_type": "markdown",
   "metadata": {},
   "source": [
    "# Do-while loops\n",
    "![do-while syntax](imgs/dowhile2.png)\n",
    "1. The statement is executed at least once (while loop statement may run 0 times!).\n",
    "2. The boolean expression is tested **after** the statement is executed."
   ]
  },
  {
   "cell_type": "code",
   "execution_count": 31,
   "metadata": {},
   "outputs": [
    {
     "name": "stdout",
     "output_type": "stream",
     "text": [
      "0 "
     ]
    }
   ],
   "source": [
    "int i = 0;\n",
    "do {\n",
    "    cout << i << ' ';\n",
    "    i++;\n",
    "} while (i < 0);"
   ]
  },
  {
   "cell_type": "markdown",
   "metadata": {},
   "source": [
    "## Another homework - simplified battleship\n",
    "Given a 5 x 5 grid, computer places one 1x1 ship at a random location. The coordinates are in the range 1..5. Sink that ship!"
   ]
  },
  {
   "cell_type": "code",
   "execution_count": null,
   "metadata": {},
   "outputs": [],
   "source": [
    "#include <iostream>\n",
    "#include <cstdlib>\n",
    "#include <ctime>\n",
    "\n",
    "using namespace std;\n",
    "\n",
    "int shipx, shipy;\n",
    "int bombx, bomby;\n",
    "\n",
    "srand(time(NULL));\n",
    "shipx = rand()%5 + 1;\n",
    "shipy = rand()%5 + 1;\n",
    "\n",
    "// game logic here do-while works nicely here\n",
    "do {\n",
    "    // read the bomb coordinates\n",
    "\n",
    "} while ();"
   ]
  },
  {
   "cell_type": "code",
   "execution_count": null,
   "metadata": {},
   "outputs": [],
   "source": []
  }
 ],
 "metadata": {
  "kernelspec": {
   "display_name": "C++17",
   "language": "C++17",
   "name": "xcpp17"
  },
  "language_info": {
   "codemirror_mode": "text/x-c++src",
   "file_extension": ".cpp",
   "mimetype": "text/x-c++src",
   "name": "c++",
   "version": "17"
  }
 },
 "nbformat": 4,
 "nbformat_minor": 4
}
