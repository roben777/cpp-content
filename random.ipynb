{
 "cells": [
  {
   "cell_type": "code",
   "execution_count": null,
   "id": "18e616a5",
   "metadata": {},
   "outputs": [],
   "source": [
    "// setup\n",
    "#include <cstdlib>\n",
    "#include <iostream>\n",
    "#include <random>\n",
    "#include <ctime>\n",
    "using namespace std;"
   ]
  },
  {
   "cell_type": "markdown",
   "id": "dab085d7",
   "metadata": {},
   "source": [
    "# Pseudo-random numbers in C++\n",
    "Being able to work with numbers that are generated at random is a very powerful tool in programming. Such numbers can be used in simulating games (throwing dice, generating hands in card games), cryptography (read this easy to follow [article](http://www.loyalty.org/~schoen/rsa/) about RSA public key cryptography vulnerabilities caused by weak random number generators), solving difficult optimization problems with fast randomized algorithms ([notes](https://cse.iitkgp.ac.in/~abhij/course/theory/Algo2/Autumn20/slides/Randomized-Algo.pdf) about randomized algorithms, a little advanced but good to get an idea), etc.\n",
    "\n",
    "The random numbers we are generating in programs are called **pseudo-random**: they are calculated using mathematical sequences, such as the following sequence called a *linear congruential sequence*:\n",
    "$$ X_{n+1} = (a X_n + c) \\mod m. $$\n",
    "So, if we take $a=3$, $c=5$, and $m=7$, and if we choose the **seed** of the sequence $X_0=2$, we get\n",
    "$$ X_1 = 11 \\mod 7 = 4,\\\\ X_2 = 17 \\mod 7 = 3,\\\\ X_3 = 14 \\mod 7 = 0, \\;\\text{etc}.$$\n",
    "We notice that the values $X_1, X_2, \\ldots$, seem random (no pattern is evident) although they are not. It all boils down to choosing the right values for constants $a,c,m$. Of course, other mathematical sequences exist. "
   ]
  },
  {
   "cell_type": "markdown",
   "id": "111a91b1",
   "metadata": {},
   "source": [
    "## Generating random numbers in C++\n",
    "### Method 1: the C method\n",
    "1. Include ```<cstdlib>```\n",
    "2. Initialize the value of the seed (optional). By default, the seed is 1.\n",
    "3. Call ```rand()``` for the first random number, call it again for the second, etc."
   ]
  },
  {
   "cell_type": "code",
   "execution_count": null,
   "id": "dc834f35",
   "metadata": {},
   "outputs": [],
   "source": [
    "srand(3);  // initialize seed to 3\n",
    "cout << rand() << \" \";  // first random nr\n",
    "cout << rand() << \" \";  // second random nr ..."
   ]
  },
  {
   "cell_type": "code",
   "execution_count": null,
   "id": "b87a6dd6",
   "metadata": {},
   "outputs": [],
   "source": [
    "srand(10);  // initialize seed to 10\n",
    "cout << rand() << \" \";  // first random nr\n",
    "cout << rand() << \" \";  // second random nr ..."
   ]
  },
  {
   "cell_type": "code",
   "execution_count": null,
   "id": "dcd9321f",
   "metadata": {},
   "outputs": [],
   "source": [
    "srand(3);  // initialize seed to 3\n",
    "cout << rand() << \" \";  // first random nr\n",
    "cout << rand() << \" \";  // second random nr ..."
   ]
  },
  {
   "cell_type": "markdown",
   "id": "6436266f",
   "metadata": {},
   "source": [
    "Notice that different seed values produce different sequences, but for the same seed, the sequence repeats. This is definitely not truly random. To improve the behaviour of their random number generators, programs use a different source of randomness, usually physical, for the seed. For example, mouse movement, network traffic, the internal clock. Using the clock, is quite common:"
   ]
  },
  {
   "cell_type": "code",
   "execution_count": null,
   "id": "a8da51a7",
   "metadata": {},
   "outputs": [],
   "source": [
    "#include <unistd.h>\n",
    "\n",
    "for (int i=0; i< 10; i++) {\n",
    "    cout << time(NULL) << ' ';  // time returns the number of seconds since a reference date/time (Jan 1, 1970)\n",
    "    sleep(1);  // sleep() pauses the program for the nr of seconds provided as argument\n",
    "                // without sleep, time() returns the same value. Try it!\n",
    "}"
   ]
  },
  {
   "cell_type": "code",
   "execution_count": null,
   "id": "4050de13",
   "metadata": {},
   "outputs": [],
   "source": [
    "// every time this is executed, the generated sequence is different\n",
    "srand(time(NULL));\n",
    "for (int i=0; i<10; i++) {\n",
    "    cout << rand() << ' ';\n",
    "}"
   ]
  },
  {
   "cell_type": "markdown",
   "id": "e4e20a4b",
   "metadata": {},
   "source": [
    "### Method 2: C++\n",
    "Generators: C++ objects that generate sequences of numbers like rand(). Advantages over the C version: (1) there is a choice of mathematical functions to generate the seemingly random numbers, (2) one can use several independent random generators with different seeds instead of a single one (3) the methods are mathematically more robust."
   ]
  },
  {
   "cell_type": "code",
   "execution_count": null,
   "id": "e7445c09",
   "metadata": {},
   "outputs": [],
   "source": [
    "#include <random>\n",
    "\n",
    "int seed = 3;\n",
    "minstd_rand generator(seed);  // declare a variable (object) generator; \n",
    "                              // can use many generators, each with a different seed (check cplusplus.com)\n",
    "                              // Just declare another generator object.\n",
    "cout << generator() << ' ' << generator();"
   ]
  },
  {
   "cell_type": "markdown",
   "id": "f6a2e081",
   "metadata": {},
   "source": [
    "## Using numbers randomly generated\n",
    "In applications, we may need random numbers that obey specific constraints. For example, they should be integers between 1 and 6 to simulate throwing dice, or they could only be 0 or 1 (tossing a coin). We need to write code to transform the generated numbers into the desired numbers."
   ]
  },
  {
   "cell_type": "markdown",
   "id": "13872dbc",
   "metadata": {},
   "source": [
    "### Method 1 - C\n",
    "To generate a number between 1 and 6 we can apply $\\mod 6$ and add 1:"
   ]
  },
  {
   "cell_type": "code",
   "execution_count": null,
   "id": "9bed5b68",
   "metadata": {},
   "outputs": [],
   "source": [
    "for (int i=0; i<10; i++) {\n",
    "    cout << (rand() % 6 + 1) << ' ';\n",
    "}"
   ]
  },
  {
   "cell_type": "markdown",
   "id": "0c493239",
   "metadata": {},
   "source": [
    "### Method 2 - C++\n",
    "We can use a **distribution object**, for example the ```dice``` object defined below. This object takes a random number generator and distributes the values uniformly between the lower (ex 1) and upper (ex 6) bounds specified when the distribution object is declared and initialized."
   ]
  },
  {
   "cell_type": "code",
   "execution_count": null,
   "id": "d8387038",
   "metadata": {},
   "outputs": [],
   "source": [
    "minstd_rand generator(4);  // seed 4\n",
    "uniform_int_distribution<int> dice(1,6);\n",
    "\n",
    "for (int i=0; i<10; i++) {\n",
    "    cout << dice(generator) << ' ';  \n",
    "}"
   ]
  },
  {
   "cell_type": "markdown",
   "id": "f52c2ad0",
   "metadata": {},
   "source": [
    "### Appendix: seeding method 2 (C++)\n",
    "When we include the ```<random>``` header, we have access to another class, the ```random_device``` class. This is a random number generator that uses a physical source of randomness, *if the hardware of the device running your code has this ability*. So, instead of using the ```time()``` function like demonstrated earlier, we can simply use this special random number generator. Notice that, unlike ```time()``` which returned the same value between successive *rapid* calls to ```time()```, ```random_device``` simply returns different values. So, we can use ```random_device``` to seed your pseudo-random sequences."
   ]
  },
  {
   "cell_type": "code",
   "execution_count": null,
   "id": "0a43698b",
   "metadata": {},
   "outputs": [],
   "source": [
    "random_device rd;\n",
    "for (int i=0; i<10; i++) {\n",
    "    cout << rd() << ' ';\n",
    "}"
   ]
  },
  {
   "cell_type": "code",
   "execution_count": null,
   "id": "2142911c",
   "metadata": {},
   "outputs": [],
   "source": [
    "// creating a new random_device object does NOT start with the same sequence \n",
    "// (unlike the behaviour of other generators that use the same seed)\n",
    "random_device rd2;\n",
    "for (int i=0; i<10; i++) {\n",
    "    cout << rd2() << ' ';\n",
    "}"
   ]
  },
  {
   "cell_type": "code",
   "execution_count": null,
   "id": "81b0b0b6",
   "metadata": {},
   "outputs": [],
   "source": [
    "// putting it all together:\n",
    "// throwing a 6 face die 10 times\n",
    "random_device rd;  // physical source of randomness for the seed\n",
    "minstd_rand gen(rd());  // seed the generator\n",
    "uniform_int_distribution<int> dice(1,6);  // initialize a distribution object\n",
    "\n",
    "for (int i=0; i<10; i++) {\n",
    "    cout << dice(gen) << ' ';\n",
    "}"
   ]
  },
  {
   "cell_type": "markdown",
   "id": "1566ffe6",
   "metadata": {},
   "source": [
    "Other useful distribution objects: a rational between 0 and 1:"
   ]
  },
  {
   "cell_type": "code",
   "execution_count": null,
   "id": "b93e0dd6",
   "metadata": {},
   "outputs": [],
   "source": [
    "random_device rd;\n",
    "minstd_rand gen(rd());\n",
    "uniform_real_distribution<double> dist(0.0,1.0);\n",
    "\n",
    "for(int i=0; i<10; i++) {\n",
    "    cout << dist(gen) << ' ';\n",
    "}"
   ]
  },
  {
   "cell_type": "markdown",
   "id": "c4f3722b",
   "metadata": {},
   "source": [
    "## Exercises ##\n",
    "1. Simulate 10 throws of a 20 face die (the faces are numbered 1-20). Write the code below using the C method."
   ]
  },
  {
   "cell_type": "code",
   "execution_count": null,
   "id": "907548f5",
   "metadata": {},
   "outputs": [],
   "source": []
  },
  {
   "cell_type": "markdown",
   "id": "013ba6af",
   "metadata": {},
   "source": [
    "2. Same as exercise 1 but use the C++ method."
   ]
  },
  {
   "cell_type": "code",
   "execution_count": null,
   "id": "5d11d760",
   "metadata": {},
   "outputs": [],
   "source": []
  },
  {
   "cell_type": "markdown",
   "id": "94c817f1",
   "metadata": {},
   "source": [
    "3. Write code using the C method, then the C++ method, to generate a 5 card poker hand. There are a total of 52 cards in a poker game: there are 9 number cards numbered 2-10. Following are 4 figure cards: aces (represented by 11), jack (12), queen (13) and king(14). Each card belongs to one of four suites: spades (S), clubs (C), diamond (D), and hearts (H). Make sure your hand does not have two cards with the same number and suite. With this notation, the ace of clubs would be represented by 11C, the 4 of hearts by 4H, etc."
   ]
  },
  {
   "cell_type": "code",
   "execution_count": null,
   "id": "9b0e3a7d",
   "metadata": {},
   "outputs": [],
   "source": []
  },
  {
   "cell_type": "markdown",
   "id": "e4201678",
   "metadata": {},
   "source": [
    "4. Enhance your code from exercise 3 to display 'a' for the ace (instead of 11), j for jack (instead of 12), q for queen (instead of 13), and k for king (instead of 14). This way, the ace of clubs would be represented by aC."
   ]
  },
  {
   "cell_type": "code",
   "execution_count": null,
   "id": "49613bb6",
   "metadata": {},
   "outputs": [],
   "source": []
  }
 ],
 "metadata": {
  "kernelspec": {
   "display_name": "C++17",
   "language": "C++17",
   "name": "xcpp17"
  },
  "language_info": {
   "codemirror_mode": "text/x-c++src",
   "file_extension": ".cpp",
   "mimetype": "text/x-c++src",
   "name": "c++",
   "version": "17"
  }
 },
 "nbformat": 4,
 "nbformat_minor": 5
}
