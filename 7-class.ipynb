{
 "cells": [
  {
   "cell_type": "code",
   "execution_count": null,
   "id": "73aa1652",
   "metadata": {},
   "outputs": [],
   "source": [
    "// setup cell\n",
    "#include <iostream>\n",
    "#include <string>\n",
    "using namespace std;"
   ]
  },
  {
   "cell_type": "markdown",
   "id": "c658d7f1",
   "metadata": {},
   "source": [
    "# Structures, classes\n",
    "What is a structure (`struct`)? What is a class (`class`)? Structures vs arrays.\n",
    "\n",
    "**Definition** A `struct`/`class` is a collection of variables (with possibly different types) and functions that are logically grouped together.\n",
    "\n",
    "Syntax: \n",
    "```\n",
    "class name {\n",
    "  // ... member variables and functions\n",
    "};\n",
    "```\n",
    "\n",
    "Note that the array is an ordered collection of variables of the same type.\n",
    "\n",
    "## Reason 1. Grouping data\n",
    "Sometimes, our programs must handle pieces of data that are linked together. For example, name and GPA for a student. \n",
    "\n",
    "**Example:** Read the name and GPA of a student. Then output the name with the gpa."
   ]
  },
  {
   "cell_type": "code",
   "execution_count": null,
   "id": "2b2b2b1f",
   "metadata": {},
   "outputs": [],
   "source": [
    "string name;\n",
    "float gpa;\n",
    "getline(cin, name);\n",
    "cin >> gpa;\n",
    "cout << name << \" has a GPA of \" << gpa << endl;"
   ]
  },
  {
   "cell_type": "markdown",
   "id": "a79e70e7",
   "metadata": {},
   "source": [
    "**Example 2:** Read the name and GPA of 2 students, then print the information. Note that it is possible to incorrectly output the association between students and their corresponding GPA. The four variables used below are loosly associated, yet the information is tightly connected!"
   ]
  },
  {
   "cell_type": "code",
   "execution_count": null,
   "id": "72e428fe",
   "metadata": {},
   "outputs": [],
   "source": [
    "string name, name2, g, g2;\n",
    "float gpa, gpa2;\n",
    "getline(cin, name);\n",
    "getline(cin, g);  // getline and >> don't mix well\n",
    "gpa = stod(g);  \n",
    "getline(cin, name2);\n",
    "getline(cin, g2);\n",
    "gpa2 = stod(g2);\n",
    "cout << name << \" has a GPA of \" << gpa2 << endl;\n",
    "cout << name2 << \" has a GPA of \" << gpa << endl;"
   ]
  },
  {
   "cell_type": "markdown",
   "id": "575232e6",
   "metadata": {},
   "source": [
    "To avoid such an error, C++ has the user defined type struct (or class)."
   ]
  },
  {
   "cell_type": "markdown",
   "id": "4d93cc70",
   "metadata": {},
   "source": [
    "## Syntax of struct\n",
    "``` struct name_of_struct {\n",
    "  variable declaration 1;\n",
    "  variable declaration 2;\n",
    "  ...\n",
    "  }```\n",
    "  \n",
    "  Note that the above instruction does not create a variable, it only defines a new type of data. This new type creates a tightly associated set of variables (member variables). Struct is like a club. We have members (listed between {})"
   ]
  },
  {
   "cell_type": "code",
   "execution_count": null,
   "id": "516cc1c7",
   "metadata": {},
   "outputs": [],
   "source": [
    "struct student {\n",
    "    string name;\n",
    "    float gpa;\n",
    "}"
   ]
  },
  {
   "cell_type": "markdown",
   "id": "9e7859a8",
   "metadata": {},
   "source": [
    "## Struct variables\n",
    "To use the struct, we must create a variable for it. We can access the name and gpa using operator ```.```. "
   ]
  },
  {
   "cell_type": "code",
   "execution_count": null,
   "id": "2c9adb18",
   "metadata": {},
   "outputs": [],
   "source": [
    "student s;\n",
    "// initialize s (by initializing its members)\n",
    "// s.name = \"Rob Bob\";\n",
    "getline(cin, s.name);\n",
    "string g;\n",
    "getline(cin, g);\n",
    "s.gpa = stod(g);\n",
    "// output\n",
    "cout << s.name << \" has a GPA of \" << s.gpa << endl;"
   ]
  },
  {
   "cell_type": "markdown",
   "id": "d3f73b85",
   "metadata": {},
   "source": [
    "Extend this code to the two student example."
   ]
  },
  {
   "cell_type": "code",
   "execution_count": null,
   "id": "a67a8b9f",
   "metadata": {},
   "outputs": [],
   "source": [
    "student s, s2;\n",
    "// initialize s (by initializing its members)\n",
    "// s.name = \"Rob Bob\";\n",
    "getline(cin, s.name);\n",
    "string g;\n",
    "getline(cin, g);\n",
    "s.gpa = stod(g);\n",
    "\n",
    "// read the second student\n",
    "getline(cin, s2.name);\n",
    "getline(cin, g);\n",
    "s2.gpa = stod(g);\n",
    "\n",
    "// output\n",
    "cout << s.name << \" has a GPA of \" << s.gpa << endl;\n",
    "cout << s2.name << \" has a GPA of \" << s.gpa << endl; // still have a problem"
   ]
  },
  {
   "cell_type": "markdown",
   "id": "28015b2b",
   "metadata": {},
   "source": [
    "## What C++ items can we associate within a struct?\n",
    "1. Any valid variable declarations.\n",
    "2. Any struct variables.\n",
    "3. **Functions**.\n",
    "\n",
    "For example, suppose we want to define a function that prints out the information about a student. It makes sense to associate it with the other members of the struct."
   ]
  },
  {
   "cell_type": "code",
   "execution_count": null,
   "id": "5d6c260d",
   "metadata": {},
   "outputs": [],
   "source": [
    "struct student {\n",
    "    // member variables\n",
    "    string name;\n",
    "    float gpa;\n",
    "    \n",
    "    // member functions\n",
    "    // print the information for the student\n",
    "    void print() {\n",
    "        cout << name << \" has a GPA of \" << gpa << endl;\n",
    "    }\n",
    "}"
   ]
  },
  {
   "cell_type": "code",
   "execution_count": null,
   "id": "9605229d",
   "metadata": {},
   "outputs": [],
   "source": [
    "student s, s2;\n",
    "// initialize students by initializing its members\n",
    "getline(cin, s.name);\n",
    "string g;\n",
    "getline(cin, g);\n",
    "s.gpa = stod(g);\n",
    "\n",
    "// read the second student\n",
    "getline(cin, s2.name);\n",
    "getline(cin, g);\n",
    "s2.gpa = stod(g);\n",
    "\n",
    "// use the same . notation to access member functions\n",
    "s.print();\n",
    "s2.print();"
   ]
  },
  {
   "cell_type": "markdown",
   "id": "1c4e3d17",
   "metadata": {},
   "source": [
    "## Classes and information hiding\n",
    "For example, we can still program the output using the first method and still introduce logical errors in the program. But suppose there is a way to restrict the use of member variables in the direct way illustrated (```s.name``` and ```s.gpa```).\n",
    "\n",
    "**private** member access: any declarations (functions or variables) that follow the ```private:``` label can ONLY be accessed from within member functions. We are forbidden to access the private members via the objects (variables)."
   ]
  },
  {
   "cell_type": "code",
   "execution_count": null,
   "id": "2cd2c3ba",
   "metadata": {},
   "outputs": [],
   "source": [
    "struct student {\n",
    "    // member variables\n",
    "    private:\n",
    "    string name;\n",
    "    float gpa;\n",
    "    \n",
    "    public:\n",
    "    // member functions\n",
    "    // print the information for the student\n",
    "    void print() {\n",
    "        cout << name << \" has a GPA of \" << gpa << endl;\n",
    "    }\n",
    "    \n",
    "    // read data from cin\n",
    "    void input() {\n",
    "        getline(cin, name);\n",
    "        string g;\n",
    "        getline(cin, g);\n",
    "        gpa = stod(g);\n",
    "    }\n",
    "}"
   ]
  },
  {
   "cell_type": "code",
   "execution_count": null,
   "id": "7a5f611b",
   "metadata": {},
   "outputs": [],
   "source": [
    "student s, s2;\n",
    "// how to initialize? \n",
    "s.input();\n",
    "s2.input();\n",
    "s.print();\n",
    "s2.print();"
   ]
  },
  {
   "cell_type": "markdown",
   "id": "386960a2",
   "metadata": {},
   "source": [
    "What about classes? Why do we call ```struct``` a class? We can define the student *class* using the class keyword. The members of classes defined with **class** are by default **private**, while the members of classes defined with **struct** are public."
   ]
  },
  {
   "cell_type": "code",
   "execution_count": null,
   "id": "3b44ffff",
   "metadata": {},
   "outputs": [],
   "source": [
    "class student {\n",
    "    // member variables\n",
    "    string name;\n",
    "    float gpa;\n",
    "    \n",
    "    public:\n",
    "    // member functions\n",
    "    // print the information for the student\n",
    "    void print() {\n",
    "        cout << name << \" has a GPA of \" << gpa << endl;\n",
    "    }\n",
    "    \n",
    "    // read data from cin\n",
    "    void input() {\n",
    "        getline(cin, name);\n",
    "        string g;\n",
    "        getline(cin, g);\n",
    "        gpa = stod(g);\n",
    "    }\n",
    "}"
   ]
  },
  {
   "cell_type": "code",
   "execution_count": null,
   "id": "766bb70e",
   "metadata": {},
   "outputs": [],
   "source": [
    "student s, s2;\n",
    "// how to initialize? \n",
    "s.input();\n",
    "s2.input();\n",
    "s.print();\n",
    "s2.print();"
   ]
  },
  {
   "cell_type": "markdown",
   "id": "346ed6cd",
   "metadata": {},
   "source": [
    "Suppose we want to change the student data structure inside the struct. Suppose we want to replace ```name``` by first and last names. A few things need to happen:\n",
    "1. We change the variables inside the class.\n",
    "2. We change any code that uses the class members name and replace it with first and/or last members. Note that, since a type such as ```student``` can be used in many places in the code, this step can be quite expensive. \n",
    "3. We chage the code for the print function.\n",
    "Wouldn't it be nice if we only had to change the function ```print``` and ```input``` inside the struct?"
   ]
  },
  {
   "cell_type": "markdown",
   "id": "e000f5d8",
   "metadata": {},
   "source": [
    "**Homework** Change the definition of class student so that we have separate first and last names for the student. Modify the body of functions print and input. Check that any other code we wrote in the previous cell, automatically works."
   ]
  },
  {
   "cell_type": "markdown",
   "id": "f8b5bd0a",
   "metadata": {},
   "source": [
    "## Initializing objects (variables of the type defined by a class)\n",
    "We saw that classes can be quite complex. In cpsc1620 and 2620 we consider classes as a data type (ADT or abstract data type), so the question is how should objects be initialized? The initialization can be more complex and this requires executing code.\n",
    "\n",
    "**Constructor**: is a special member function that is called either automatically when declaring an object, or explicitly by providing initialization arguments similar to the arguments of a function call. It has a special name (the name of the class) and it has *no return type*."
   ]
  },
  {
   "cell_type": "code",
   "execution_count": null,
   "id": "1fdc4905",
   "metadata": {},
   "outputs": [],
   "source": [
    "class student {\n",
    "    // member variables\n",
    "    string name;\n",
    "    float gpa;\n",
    "    \n",
    "    public:\n",
    "    // default constructor (no arguments)\n",
    "    student() {\n",
    "        cout << \"Default constructor\" << endl;\n",
    "        gpa=4;\n",
    "        name=\"No student\";\n",
    "    }\n",
    "    // member functions\n",
    "    // print the information for the student\n",
    "    void print() {\n",
    "        cout << name << \" has a GPA of \" << gpa << endl;\n",
    "    }\n",
    "    \n",
    "    // read data from cin\n",
    "    void input() {\n",
    "        getline(cin, name);\n",
    "        string g;\n",
    "        getline(cin, g);\n",
    "        gpa = stod(g);\n",
    "    }\n",
    "}"
   ]
  },
  {
   "cell_type": "code",
   "execution_count": null,
   "id": "1e73a396",
   "metadata": {},
   "outputs": [],
   "source": [
    "student s,s2; // default constructor is called\n",
    "s.print();"
   ]
  },
  {
   "cell_type": "markdown",
   "id": "0adcf005",
   "metadata": {},
   "source": [
    "- default constructor is called when we create an object and we want to initialize it to \"default\"\n",
    "- we can also explicitly initialize an object to values that we can specify as arguments to the constructor."
   ]
  },
  {
   "cell_type": "code",
   "execution_count": null,
   "id": "d94a2c84",
   "metadata": {},
   "outputs": [],
   "source": [
    "class student {\n",
    "    // member variables\n",
    "    string name;\n",
    "    float gpa;\n",
    "    \n",
    "    public:\n",
    "    // default constructor (no arguments)\n",
    "    student() {\n",
    "        cout << \"Default constructor\" << endl;\n",
    "        gpa=4;\n",
    "        name=\"No student\";\n",
    "    }\n",
    "    \n",
    "    // initialize a student object with namen n and gpa g\n",
    "    student(string n, double g) {\n",
    "        cout << \"Initializing constructor\" << endl;\n",
    "        gpa = g;\n",
    "        name = n;\n",
    "    }\n",
    "        \n",
    "    // member functions\n",
    "    // print the information for the student\n",
    "    void print() {\n",
    "        cout << name << \" has a GPA of \" << gpa << endl;\n",
    "    }\n",
    "    \n",
    "    // read data from cin\n",
    "    void input() {\n",
    "        getline(cin, name);\n",
    "        string g;\n",
    "        getline(cin, g);\n",
    "        gpa = stod(g);\n",
    "    }\n",
    "}"
   ]
  },
  {
   "cell_type": "code",
   "execution_count": null,
   "id": "6c2309b7",
   "metadata": {},
   "outputs": [],
   "source": [
    "student s;\n",
    "student s2(\"Don\", 2.5);\n",
    "cout << \"s:\" << endl;\n",
    "s.print();\n",
    "cout << \"s2:\" << endl;\n",
    "s2.print();"
   ]
  },
  {
   "cell_type": "markdown",
   "id": "35243d8e",
   "metadata": {},
   "source": [
    "## Defining class code in separate files\n",
    "Let us split the student class definition in two files. A header file that can be included in any piece of code that needs the student object. The header contains only the declaration of the class (which are the member variables and functions). The implementation file contains the code for the member functions."
   ]
  },
  {
   "cell_type": "code",
   "execution_count": null,
   "id": "9be0d938",
   "metadata": {},
   "outputs": [],
   "source": [
    "// The header file. Only the declaration! student.h\n",
    "class student {\n",
    "    // member variables\n",
    "    string name;\n",
    "    float gpa;\n",
    "    \n",
    "    public:\n",
    "    // default constructor (no arguments)\n",
    "    student();\n",
    "    \n",
    "    // initialize a student object with namen n and gpa g\n",
    "    student(string n, double g);\n",
    "        \n",
    "    // member functions\n",
    "    // print the information for the student\n",
    "    void print();\n",
    "    \n",
    "    // read data from cin\n",
    "    void input();\n",
    "};"
   ]
  },
  {
   "cell_type": "code",
   "execution_count": null,
   "id": "4f052999",
   "metadata": {},
   "outputs": [],
   "source": [
    "// With only the declaration of the class, we cannot create objects because we do not have the code \n",
    "// for the functions. \n",
    "student s;"
   ]
  },
  {
   "cell_type": "markdown",
   "id": "fdbc5577",
   "metadata": {},
   "source": [
    "**To do**: discover the right way to use member function definitions in jupyter. This doesn't work."
   ]
  },
  {
   "cell_type": "code",
   "execution_count": null,
   "id": "3a12fccb",
   "metadata": {},
   "outputs": [],
   "source": [
    "// Implementation file  student.cc\n",
    "// contains just the function code (no need to write the class student again, normally we include student.h)\n",
    "\n",
    "// default constructor\n",
    "student::student() {\n",
    "    gpa=4;\n",
    "    name=\"No student\";\n",
    "}\n",
    "\n",
    "student::student(string n, double g) {\n",
    "    gpa = g;\n",
    "    name = n;\n",
    "}\n",
    "\n",
    "void student::print() {\n",
    "    cout << name << \" has a GPA of \" << gpa << endl;\n",
    "}\n",
    "\n",
    "void student::input() {\n",
    "    getline(cin, name);\n",
    "    string g;\n",
    "    getline(cin, g);\n",
    "    gpa = stod(g);\n",
    "}"
   ]
  },
  {
   "cell_type": "code",
   "execution_count": null,
   "id": "663aa566",
   "metadata": {},
   "outputs": [],
   "source": []
  }
 ],
 "metadata": {
  "kernelspec": {
   "display_name": "C++17",
   "language": "C++17",
   "name": "xcpp17"
  },
  "language_info": {
   "codemirror_mode": "text/x-c++src",
   "file_extension": ".cpp",
   "mimetype": "text/x-c++src",
   "name": "c++",
   "version": "17"
  }
 },
 "nbformat": 4,
 "nbformat_minor": 5
}
