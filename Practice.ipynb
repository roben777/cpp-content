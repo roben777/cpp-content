{
 "cells": [
  {
   "cell_type": "markdown",
   "id": "62d046c3",
   "metadata": {},
   "source": [
    "# File streams\n",
    "1. Write through a C++ program the following lines of text into a file (open for writing) with the name \"data.txt\":\n",
    "```apple\n",
    "banana\n",
    "orange\n",
    "mango```\n",
    "2. tbc"
   ]
  },
  {
   "cell_type": "code",
   "execution_count": 1,
   "id": "e902a694",
   "metadata": {},
   "outputs": [],
   "source": [
    "#include <iostream>\n",
    "#include <string>\n",
    "#include <fstream>\n",
    "using namespace std;"
   ]
  },
  {
   "cell_type": "code",
   "execution_count": null,
   "id": "462e6f74",
   "metadata": {},
   "outputs": [],
   "source": []
  }
 ],
 "metadata": {
  "kernelspec": {
   "display_name": "C++17",
   "language": "C++17",
   "name": "xcpp17"
  },
  "language_info": {
   "codemirror_mode": "text/x-c++src",
   "file_extension": ".cpp",
   "mimetype": "text/x-c++src",
   "name": "c++",
   "version": "17"
  }
 },
 "nbformat": 4,
 "nbformat_minor": 5
}
