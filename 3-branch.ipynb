{
 "cells": [
  {
   "cell_type": "markdown",
   "metadata": {},
   "source": [
    "# Chapter 3 - branches\n",
    "## Setup"
   ]
  },
  {
   "cell_type": "code",
   "execution_count": 1,
   "metadata": {},
   "outputs": [],
   "source": [
    "#include <iostream>\n",
    "#include <iomanip>\n",
    "#include <string>\n",
    "using namespace std;"
   ]
  },
  {
   "cell_type": "markdown",
   "metadata": {},
   "source": [
    "## More about expressions (useful also for Test 1)\n",
    "What are expressions?<br>\n",
    "A: something that has a **value**, **type**, and possibly a **side effect** (when an assignment is part of the expression). <br>\n",
    "In C++, most lines of code you write are expressions. A few exceptions: declarations, if statements, loops, function definitions.\n",
    "More precisely, an expression is a sequence of operands, operators, and parentheses."
   ]
  },
  {
   "cell_type": "code",
   "execution_count": 2,
   "metadata": {},
   "outputs": [
    {
     "data": {
      "text/plain": [
       "495"
      ]
     },
     "execution_count": 2,
     "metadata": {},
     "output_type": "execute_result"
    }
   ],
   "source": [
    "// example of integer expression\n",
    "int a = 23; // declaration with initialization\n",
    "(2*a*a - 67)/2;  // Expression with value: 495; type: int; side effect: none."
   ]
  },
  {
   "cell_type": "markdown",
   "metadata": {},
   "source": [
    "An assignment instruction is also an expression:"
   ]
  },
  {
   "cell_type": "code",
   "execution_count": 3,
   "metadata": {},
   "outputs": [
    {
     "data": {
      "text/plain": [
       "16"
      ]
     },
     "execution_count": 3,
     "metadata": {},
     "output_type": "execute_result"
    }
   ],
   "source": [
    "a = 4*4;\n",
    "// expression: value 16, type: int; side effect: variable a is assigned value 16"
   ]
  },
  {
   "cell_type": "markdown",
   "metadata": {},
   "source": [
    "**Note**: value of operator = (assignment) is the value of the expression to the right of =.\n",
    "\n",
    "Output, input, are also expressions. "
   ]
  },
  {
   "cell_type": "code",
   "execution_count": 4,
   "metadata": {},
   "outputs": [
    {
     "name": "stdout",
     "output_type": "stream",
     "text": [
      "479\n"
     ]
    },
    {
     "data": {
      "text/plain": [
       "@0x7f34b6384b60"
      ]
     },
     "execution_count": 4,
     "metadata": {},
     "output_type": "execute_result"
    }
   ],
   "source": [
    "cout << 2*a*a - 67 / 2 << endl; \n",
    "// actually also an expression: value: cout; type: stream class; side effect: output"
   ]
  },
  {
   "cell_type": "markdown",
   "metadata": {},
   "source": [
    "In the expression above, list the:\n",
    "1. Operands: \n",
    "2. Operators: \n",
    "\n",
    "What is the role of ()? "
   ]
  },
  {
   "cell_type": "markdown",
   "metadata": {},
   "source": [
    "### Order of evaluating operators\n",
    "1. Precedence: which operator is evaluated first when there are many of different kinds?\n",
    "    1. Math order: - (unary) has higher precedence than *,/,% which has higher precedence than +,- (binary operators)\n",
    "    2. << (output) has low precedence, so we can write nice output statements without too many ().\n",
    "    3. = (assignment) has low precedence, so we can write nice assignment statements without too many ().\n",
    "    4. For the full list, see (https://en.cppreference.com/w/cpp/language/operator_precedence).\n",
    "2. Associativity: which operator is evaluated first when there are many operators of the same kind?\n",
    "    1. Math associativity: *, /, +, -: left to right. Example 1-2-3-4 = -8 (left to right)\n",
    "    2. <<, >>: left to right. This way, output is executed in the way we expect.\n",
    "    3. = (assignment): right to left(!). This allows to write a sequence of assignments if we have several variables that should get the same value."
   ]
  },
  {
   "cell_type": "code",
   "execution_count": 5,
   "metadata": {},
   "outputs": [
    {
     "name": "stdout",
     "output_type": "stream",
     "text": [
      "-8"
     ]
    }
   ],
   "source": [
    "cout << 1-2-3-4;"
   ]
  },
  {
   "cell_type": "code",
   "execution_count": 9,
   "metadata": {},
   "outputs": [
    {
     "name": "stderr",
     "output_type": "stream",
     "text": [
      "input_line_22:3:9: error: expression is not assignable\n",
      "a = b+1 = c = 1;\n",
      "    ~~~ ^\n"
     ]
    },
    {
     "ename": "Interpreter Error",
     "evalue": "",
     "output_type": "error",
     "traceback": [
      "Interpreter Error: "
     ]
    }
   ],
   "source": [
    "int a,b,c;\n",
    "a = b+1 = c = 1;\n",
    "cout << a << \" \" << b << \" \"  << c << endl;"
   ]
  },
  {
   "cell_type": "code",
   "execution_count": 10,
   "metadata": {},
   "outputs": [
    {
     "name": "stderr",
     "output_type": "stream",
     "text": [
      "input_line_23:2:4: error: expression is not assignable\n",
      " 3 = 5;  // will not work, of course\n",
      " ~ ^\n"
     ]
    },
    {
     "ename": "Interpreter Error",
     "evalue": "",
     "output_type": "error",
     "traceback": [
      "Interpreter Error: "
     ]
    }
   ],
   "source": [
    "3 = 5;  // will not work, of course"
   ]
  },
  {
   "cell_type": "code",
   "execution_count": 8,
   "metadata": {},
   "outputs": [
    {
     "data": {
      "text/plain": [
       "-7"
      ]
     },
     "execution_count": 8,
     "metadata": {},
     "output_type": "execute_result"
    }
   ],
   "source": [
    "a = 3;\n",
    "4*-a+5  // 1st do - (unary) -> -3; 2) * next : 4  times -3 = -12; 3) + next."
   ]
  },
  {
   "cell_type": "markdown",
   "metadata": {},
   "source": [
    "**Exercises**:"
   ]
  },
  {
   "cell_type": "code",
   "execution_count": null,
   "metadata": {},
   "outputs": [],
   "source": [
    "// declare two integer variables x, y and assign value 1 to both.\n",
    "// write your code\n",
    "\n",
    "cout << x << \" \" << y;"
   ]
  },
  {
   "cell_type": "code",
   "execution_count": null,
   "metadata": {},
   "outputs": [],
   "source": [
    "// declare 2 ints x1 and x2, initialize x1 to 1 and x2 to the negative of x1;\n",
    "// write the code here\n",
    "\n",
    "cout << x1 << \" \" << x2;"
   ]
  },
  {
   "cell_type": "code",
   "execution_count": null,
   "metadata": {},
   "outputs": [],
   "source": [
    "// output the value of variable a but write a nice message like. The value of a is ...\n"
   ]
  },
  {
   "cell_type": "markdown",
   "metadata": {},
   "source": [
    "### Practice with evaluating expressions\n",
    "\n",
    "First try to evaluate in your mind. Then execute the cell for verification. If there is any side effect, describe the effect."
   ]
  },
  {
   "cell_type": "code",
   "execution_count": null,
   "metadata": {},
   "outputs": [],
   "source": [
    "1/2/2.0 "
   ]
  },
  {
   "cell_type": "code",
   "execution_count": null,
   "metadata": {},
   "outputs": [],
   "source": [
    "1/(2*2.0)"
   ]
  },
  {
   "cell_type": "code",
   "execution_count": null,
   "metadata": {},
   "outputs": [],
   "source": [
    "3 * -2 + 2 / (0.5 / 2)  "
   ]
  },
  {
   "cell_type": "code",
   "execution_count": null,
   "metadata": {},
   "outputs": [],
   "source": [
    "int a = 9;\n",
    "cout << 2 * a / (a+1);"
   ]
  },
  {
   "cell_type": "markdown",
   "metadata": {},
   "source": [
    "# Boolean expressions\n",
    "A new type: Boolean, and two new literals (constant value of type bool). Boolean types are actually integers. True equivalent to non-zero; false equivalent to zero."
   ]
  },
  {
   "cell_type": "code",
   "execution_count": 3,
   "metadata": {},
   "outputs": [
    {
     "name": "stdout",
     "output_type": "stream",
     "text": [
      "0\n",
      "false"
     ]
    }
   ],
   "source": [
    "bool eligible = false;\n",
    "cout << eligible << endl;\n",
    "// if we want to see the bool literals:\n",
    "cout << boolalpha << eligible;"
   ]
  },
  {
   "cell_type": "code",
   "execution_count": 4,
   "metadata": {},
   "outputs": [
    {
     "name": "stdout",
     "output_type": "stream",
     "text": [
      "false\n",
      "false"
     ]
    }
   ],
   "source": [
    "bool eligible = false;\n",
    "cout << eligible << endl;\n",
    "// if we want to see the bool literals:\n",
    "cout << boolalpha << eligible;"
   ]
  },
  {
   "cell_type": "markdown",
   "metadata": {},
   "source": [
    "*boolalpha* modifies the state of cout until it is reset, for example until we output the flag *noboolalpha*."
   ]
  },
  {
   "cell_type": "code",
   "execution_count": 5,
   "metadata": {},
   "outputs": [
    {
     "name": "stdout",
     "output_type": "stream",
     "text": [
      "true\n",
      "1"
     ]
    }
   ],
   "source": [
    "bool eligible = true;\n",
    "cout << eligible << endl;\n",
    "// if we want to see the bool literals:\n",
    "cout << noboolalpha << eligible;"
   ]
  },
  {
   "cell_type": "markdown",
   "metadata": {},
   "source": [
    "## Relational operators\n",
    "Relational (a.k.a comparison) operators evaluate to a boolean value: <, >, <= (for $\\le$), >= (for $\\ge$), == (for equality, not assignment), != (for $\\not=$).\n",
    "\n",
    "Semantics (meaning) of comparison operators: \n",
    "1. Like in math for numerical operands.\n",
    "2. Lexicographic (dictionary) order for string type operands."
   ]
  },
  {
   "cell_type": "code",
   "execution_count": 6,
   "metadata": {},
   "outputs": [
    {
     "name": "stdout",
     "output_type": "stream",
     "text": [
      "true\n",
      "true\n",
      "false\n",
      "true\n",
      "false\n",
      "true\n",
      "false\n"
     ]
    }
   ],
   "source": [
    "// Continue from here\n",
    "// try some relational operators here:\n",
    "cout << boolalpha;\n",
    "cout << (2 < 3) << endl;\n",
    "cout << (2 <= 3) << endl;\n",
    "cout << (3 < 3) << endl;  \n",
    "cout << (3 <= 3) << endl; \n",
    "cout << (2 == 3) << endl;\n",
    "cout << (2 != 3) << endl;\n",
    "cout << (2 == 3) << endl;"
   ]
  },
  {
   "cell_type": "markdown",
   "metadata": {},
   "source": [
    "**Note** please be careful about not confusing = (assignment) with == (comparison) operator."
   ]
  },
  {
   "cell_type": "code",
   "execution_count": null,
   "metadata": {},
   "outputs": [],
   "source": [
    "int a = 2;\n",
    "cout << boolalpha;\n",
    "cout << (a == 3) << endl;\n",
    "cout << (a = 3) << endl;  // interpreted as true because 3 is not zero."
   ]
  },
  {
   "cell_type": "markdown",
   "metadata": {},
   "source": [
    "Comparison can be used with string expressions. In this case, a string $A$ is less than another string $B$ if $A$ appears before $B$ in dictionary order (lexicographic order).\n",
    "\n",
    "**Exception**: Unlike in a dictionary, there is a distinction between uppercase and lowercase letters. Uppercase letters appear before all of the lowercase letters!"
   ]
  },
  {
   "cell_type": "code",
   "execution_count": 7,
   "metadata": {},
   "outputs": [
    {
     "name": "stderr",
     "output_type": "stream",
     "text": [
      "input_line_14:3:16: warning: result of comparison against a string literal is unspecified (use strncmp instead) [-Wstring-compare]\n",
      "cout << (\"dog\" < \"cat\") << endl;  // not comparing the strings. In order to compare the strings, \n",
      "         ~~~~~ ^\n"
     ]
    },
    {
     "name": "stdout",
     "output_type": "stream",
     "text": [
      "true\n",
      "true\n",
      "false\n"
     ]
    }
   ],
   "source": [
    "cout << boolalpha;\n",
    "cout << (\"dog\" < \"cat\") << endl;  // not comparing the strings. In order to compare the strings, \n",
    "                                // we need string type!!!\n",
    "cout << (string(\"cat\") < \"dog\") << endl;\n",
    "cout << (string(\"cat\") < \"Dog\") << endl;"
   ]
  },
  {
   "cell_type": "markdown",
   "metadata": {},
   "source": [
    "**Exception 2**: we can compare text expressions of the type *string*. We cannot compare, for example, two string literals, because a string literal is not of type *string* actually. A string literal has a type we can call \"c-string\" (written in C++ as **char\\*** - more about this later). "
   ]
  },
  {
   "cell_type": "code",
   "execution_count": null,
   "metadata": {},
   "outputs": [],
   "source": [
    "cout << (\"cat\" < \"Dog\") << endl;"
   ]
  },
  {
   "cell_type": "markdown",
   "metadata": {},
   "source": [
    "# Simple if statements\n",
    "\n",
    "![If syntax](imgs/if-syntax.png)\n",
    "\n",
    "Statement: use block statements: **{** one or more statements separated by ; **}**."
   ]
  },
  {
   "cell_type": "markdown",
   "metadata": {},
   "source": [
    "**Example**: Write code to read the GPA and output if the student is eligible for this scholarship.\n",
    "\n",
    "| | Scholarship A |\n",
    "| --- | --- |\n",
    "| Min GPA | 3.5 |"
   ]
  },
  {
   "cell_type": "code",
   "execution_count": 5,
   "metadata": {},
   "outputs": [
    {
     "name": "stdout",
     "output_type": "stream",
     "text": [
      "3.4\n"
     ]
    }
   ],
   "source": [
    "double gpa;\n",
    "cin >> gpa;\n",
    "if (gpa >= 3.5) {\n",
    "    cout << \"Student eligible for Scholarship A\";\n",
    "}"
   ]
  },
  {
   "cell_type": "markdown",
   "metadata": {},
   "source": [
    "Simple ifs: use sequentially, when branches do not depend on each other. For example, one is eligible for any number of scholarships.\n",
    "\n",
    "\n",
    "|  | Scholarship A | Scholarship B | Scholarship C |\n",
    "| --- | --- | --- | --- |\n",
    "Min GPA | 3.5 | 3.65 | 3.80 |"
   ]
  },
  {
   "cell_type": "code",
   "execution_count": 8,
   "metadata": {},
   "outputs": [
    {
     "name": "stdout",
     "output_type": "stream",
     "text": [
      "3.9\n",
      "Student eligible for Scholarship A\n",
      "Student eligible for Scholarship B\n",
      "Student eligible for Scholarship C\n"
     ]
    }
   ],
   "source": [
    "double gpa;\n",
    "cin >> gpa;\n",
    "\n",
    "// notice the absence of {}. This works because there is a single\n",
    "// expression for the if-branch of the statement.\n",
    "if (gpa >= 3.5)\n",
    "    cout << \"Student eligible for Scholarship A\" << endl;\n",
    "\n",
    "// I recommend to always use {} for the branches if if and if-else \n",
    "// statements. There are various styles. Use any style you like.\n",
    "if (gpa >= 3.65) {\n",
    "    cout << \"Student eligible for Scholarship B\" << endl;\n",
    "}\n",
    "\n",
    "// Another common style\n",
    "if (gpa >= 3.8)\n",
    "{\n",
    "    cout << \"Student eligible for Scholarship C\" << endl;\n",
    "}"
   ]
  },
  {
   "cell_type": "markdown",
   "metadata": {},
   "source": [
    "# If Else statements\n",
    "![If Else syntax](imgs/ifelse-syntax.png)"
   ]
  },
  {
   "cell_type": "markdown",
   "metadata": {},
   "source": [
    "Use:\n",
    "1. When EITHER the true branch OR the false branch must be executed. Ex: print if eligible for Scholarship A, otherwise print \"not eligible\".\n",
    "2. Nesting if statements on the else branch is very useful. Ex: test for ranges."
   ]
  },
  {
   "cell_type": "code",
   "execution_count": 10,
   "metadata": {},
   "outputs": [
    {
     "name": "stdout",
     "output_type": "stream",
     "text": [
      "2.8\n",
      "Not eligible\n"
     ]
    }
   ],
   "source": [
    "// read GPA and print Eligible for Schlarship A / Not eligible.\n",
    "double gpa;\n",
    "cin >> gpa;\n",
    "if (gpa >= 3.5) {\n",
    "    cout << \"Eligible for Scholarship A\" << endl;\n",
    "} else {\n",
    "    cout << \"Not eligible\" << endl;\n",
    "}"
   ]
  },
  {
   "cell_type": "markdown",
   "metadata": {},
   "source": [
    "### Some more examples for IF and IF/ELSE statements\n",
    "\n",
    "Read an integer. Output odd or even according to the parity of the integer."
   ]
  },
  {
   "cell_type": "code",
   "execution_count": 13,
   "metadata": {},
   "outputs": [
    {
     "name": "stdout",
     "output_type": "stream",
     "text": [
      "66\n",
      "even"
     ]
    }
   ],
   "source": [
    "int n;\n",
    "cin >> n;\n",
    "if (n%2==0) {\n",
    "    cout << \"even\";\n",
    "} \n",
    "else {\n",
    "    cout << \"odd\";\n",
    "}"
   ]
  },
  {
   "cell_type": "markdown",
   "metadata": {},
   "source": [
    "Compute the reciprocal of an integer. Ex: the reciprocal of $n$ is $\\frac{1}{n}$. Write code that reads $n$ and outputs the reciprocal. If $n$ is zero, then output \"not defined\"."
   ]
  },
  {
   "cell_type": "code",
   "execution_count": null,
   "metadata": {},
   "outputs": [],
   "source": [
    "int n;\n",
    "cin >> n;\n",
    "if (n != 0) {\n",
    "    cout << 1.0/n;  // static_cast<float>(1/n) not working \n",
    "    // 1/static_cast<float>(n), OK\n",
    "    // pow(n, -1)\n",
    "}"
   ]
  },
  {
   "cell_type": "markdown",
   "metadata": {},
   "source": [
    "Read two integers. Output the largest of the two."
   ]
  },
  {
   "cell_type": "code",
   "execution_count": 3,
   "metadata": {},
   "outputs": [
    {
     "name": "stdout",
     "output_type": "stream",
     "text": [
      "99 4\n",
      "99"
     ]
    }
   ],
   "source": [
    "int x, y;\n",
    "cin >> x >> y;\n",
    "if (x>y) {\n",
    "    cout << x;\n",
    "} else {\n",
    "    cout << y;\n",
    "}"
   ]
  },
  {
   "cell_type": "markdown",
   "metadata": {},
   "source": [
    "**Example for testing ranges**: read a temperature in C. Print:\n",
    "\n",
    "|Temperature (C) | below 15 | 15 <= temp <= 25 | higher than 25 |\n",
    "| --- | --- | --- | --- |\n",
    "|  | Cold | Pleasant | Hot |\n",
    "\n",
    "**Strategy**\n",
    "1. Plan your *if statements* first by drawing a decision tree. (see the lecture slides).\n",
    "2. Seek a decision tree with as fewer nodes as possible. The best decision trees are those that look almost like paths. These can be implemented easily by nesting if statements on the else branch (we say this technique uses *else-if* statements, although the actual C++ statements are regular if statements).\n",
    "\n",
    "**Exercise**: Draw a decision tree for the temperature ranges example above (see notes).\n",
    "\n",
    "**Exercise**: Implement the decision tree in code."
   ]
  },
  {
   "cell_type": "code",
   "execution_count": null,
   "metadata": {},
   "outputs": [],
   "source": [
    "double temp;\n",
    "cin >> temp;\n",
    "// write the code here from the notes"
   ]
  },
  {
   "cell_type": "markdown",
   "metadata": {},
   "source": [
    "**Exercise for testing ranges**: read a temperature in C. Print:\n",
    "\n",
    "|Temperature (C) | below 0 | 0 <= temp < 20 | between 20 and 25 | higher than 25 |\n",
    "| --- | --- | --- | --- | --- |\n",
    "|  | Cold | Pleasant | Warm | Hot |\n",
    "\n",
    "**To do**\n",
    "1. Draw the decision tree.\n",
    "2. Implement the tree in code."
   ]
  },
  {
   "cell_type": "code",
   "execution_count": null,
   "metadata": {},
   "outputs": [],
   "source": [
    " // draw decision tree then implement it; \n",
    "double temp;\n",
    "cin >> temp;\n"
   ]
  },
  {
   "cell_type": "markdown",
   "metadata": {},
   "source": [
    "## Logical operators\n",
    "\n",
    "| Operator | AND | OR $\\vee$ | NOT |\n",
    "| --- | --- | --- | --- |\n",
    "| C++ operator | && | \\|\\| | ! |\n"
   ]
  },
  {
   "cell_type": "markdown",
   "metadata": {},
   "source": [
    "**Practice**: given integer variable *a* which you read from input. Test if *a* is between 10 and 100 (including the boundary values).  "
   ]
  },
  {
   "cell_type": "code",
   "execution_count": null,
   "metadata": {},
   "outputs": [],
   "source": [
    "cout << boolalpha;\n",
    "cout << true << \" \" << ! true << endl;\n",
    "cout << (true && false) << endl;\n",
    "cout << (true || false);"
   ]
  },
  {
   "cell_type": "markdown",
   "metadata": {},
   "source": [
    "**Practice**: given integer variable *a* which you read from input. Test if *a* is not between 10 and 100 (including the boundary values). Translate $10 \\le a \\le 100$ in English using AND, OR, NOT, greater and equal to, etc... $a$ is greater or equal to 10 AND $a$ is less than or equal to 100."
   ]
  },
  {
   "cell_type": "code",
   "execution_count": null,
   "metadata": {},
   "outputs": [],
   "source": [
    "int a;\n",
    "cin >> a;\n",
    "cout << boolalpha << ((a >= 10) && (a <= 100));"
   ]
  },
  {
   "cell_type": "markdown",
   "metadata": {},
   "source": [
    "**Exercise:** read a temperature in degrees C. Print the simplified state\n",
    "\n",
    "|Temperature (C) | below 15 | between 15 and 25 | higher than 25 |\n",
    "| --- | --- | --- | --- |\n",
    "|   | Unpleasant | Pleasant | Unpleasant |\n",
    "\n",
    "We can write a decision tree and implement this by nesting if statements on the else branch, but we would use the message \"unpleasant\" twice.\n",
    "\n",
    "Mathematically, if $t$ is the temperature, we would state $15 \\le t \\le 25$ is pleasant. This way of writing is a shortcut for saying $15 \\le t$ AND $t \\le 25$."
   ]
  },
  {
   "cell_type": "code",
   "execution_count": null,
   "metadata": {},
   "outputs": [],
   "source": [
    "// design your code to use a single output statement for \"unpleasant\"\n",
    "int temp;\n",
    "cin >> temp;\n",
    "if (15 <= temp && temp <= 25) {\n",
    "    cout << \"Pleasant\";\n",
    "} else {\n",
    "    cout << \"Unpleasant\";\n",
    "}"
   ]
  },
  {
   "cell_type": "markdown",
   "metadata": {},
   "source": [
    "**Thinking time:** Change the if statement above so that the message \"unpleasant\" is output on the true branch of the if statement."
   ]
  },
  {
   "cell_type": "code",
   "execution_count": null,
   "metadata": {},
   "outputs": [],
   "source": [
    "int temp;\n",
    "cin >> temp;"
   ]
  },
  {
   "cell_type": "markdown",
   "metadata": {},
   "source": [
    "## Logical operators and shortcut\n",
    "If the outcome of a logical operator is determined by the value of its first argument, ten the second argument is not evaluated (**any side effects will not happen** for the second argument)."
   ]
  },
  {
   "cell_type": "code",
   "execution_count": null,
   "metadata": {},
   "outputs": [],
   "source": [
    "int a=0;\n",
    "bool orex = true || (a=-1);\n",
    "cout << a;"
   ]
  },
  {
   "cell_type": "code",
   "execution_count": null,
   "metadata": {},
   "outputs": [],
   "source": [
    "int a=0;\n",
    "bool orex = false || (a=-1);\n",
    "cout << a;"
   ]
  },
  {
   "cell_type": "markdown",
   "metadata": {},
   "source": [
    "**Homework**: How would this code be revised to test the AND operator shortcup property?"
   ]
  },
  {
   "cell_type": "markdown",
   "metadata": {},
   "source": [
    "## Useful operations and tests on strings \n",
    "1. Accessing individual characters in a string.\n",
    "1. Finding characters.\n",
    "2. Extracting substrings.\n",
    "3. Concatenating strings."
   ]
  },
  {
   "cell_type": "code",
   "execution_count": null,
   "metadata": {},
   "outputs": [],
   "source": [
    "string s1;\n",
    "// read into s1\n",
    "getline(cin,s1);\n",
    "// output the third character in the string\n",
    "cout << s1.at(2) << endl;\n",
    "cout << s1[2] << endl;\n",
    "cin >> s1.at(2);\n",
    "cout << s1 << endl;\n",
    "// find if there is space in the string\n",
    "cout << \"The position of space is \" << s1.find(' ');  // first occurence from the left in the string"
   ]
  },
  {
   "cell_type": "code",
   "execution_count": null,
   "metadata": {},
   "outputs": [],
   "source": [
    "string s1;\n",
    "// read into s1\n",
    "getline(cin,s1);\n",
    "// find if there is space in the string and output its position.\n",
    "// if no space, output \"no space\"\n",
    "int position = s1.find(' ');\n",
    "if (position == string::npos) {\n",
    "    cout << \"No space\" << endl;\n",
    "} else {\n",
    "    cout << \"The position of space is \" << position << endl;  // first occurence from the left in the string\n",
    "}"
   ]
  },
  {
   "cell_type": "code",
   "execution_count": null,
   "metadata": {},
   "outputs": [],
   "source": [
    "string s1;\n",
    "// read into s1\n",
    "getline(cin,s1);\n",
    "// output the substring starting with the third character, and containing 3 characters\n",
    "string subs1 = s1.substr(2,3);\n",
    "cout << subs1;"
   ]
  },
  {
   "cell_type": "code",
   "execution_count": null,
   "metadata": {},
   "outputs": [],
   "source": [
    "// concatenate two strings\n",
    "string s1=\"abc\", s2=\"123\", s3;\n",
    "s3 = s2 + s1;\n",
    "cout << s3;"
   ]
  },
  {
   "cell_type": "markdown",
   "metadata": {},
   "source": [
    "## Question\n",
    "Given an amount of cents, how many quarters are needed to represent a value closest to the amount."
   ]
  },
  {
   "cell_type": "code",
   "execution_count": null,
   "metadata": {},
   "outputs": [],
   "source": [
    "int cents = 249;\n",
    "int nr_of_quarters = cents/25;\n",
    "cout << \"Nr of quarters \" << nr_of_quarters << endl;\n",
    "cout << \"I gave change for \" << 25*nr_of_quarters;"
   ]
  },
  {
   "cell_type": "code",
   "execution_count": null,
   "metadata": {},
   "outputs": [],
   "source": []
  },
  {
   "cell_type": "markdown",
   "metadata": {},
   "source": [
    "### More examples and exercises ###\n",
    "\n",
    "1. Read an integer $x$. Output +1 if $x>0$, 0 if $x=0$, and -1 if $x < 0$. Read about the [sign](https://en.wikipedia.org/wiki/Sign_function) function."
   ]
  },
  {
   "cell_type": "code",
   "execution_count": null,
   "metadata": {},
   "outputs": [],
   "source": []
  },
  {
   "cell_type": "markdown",
   "metadata": {},
   "source": [
    "2. Read an integer $n$. Output the value $\\frac{n}{6}$ if $n$ is divisible by 6, $\\frac{n}{3}$ if $n$ is divisible by 3, $\\frac{n}{2}$ if $n$ is divisible by 2, and $n$ if none of the previous cases apply."
   ]
  },
  {
   "cell_type": "code",
   "execution_count": null,
   "metadata": {},
   "outputs": [],
   "source": []
  },
  {
   "cell_type": "markdown",
   "metadata": {},
   "source": [
    "3. The cell below reads a positive integer $N$ from input. Write code in the second cell that halves $N$ if $N$ is even. In other words, $N$ becomes $\\frac{N}{2}$. Otherwise (if $N$ is odd) $N$ becomes $3 N + 1$. Run your calculation code several times. What do you notice about the value of $N$?"
   ]
  },
  {
   "cell_type": "code",
   "execution_count": null,
   "metadata": {},
   "outputs": [],
   "source": [
    "long int N;\n",
    "cin >> N;"
   ]
  },
  {
   "cell_type": "code",
   "execution_count": null,
   "metadata": {},
   "outputs": [],
   "source": [
    "// write the code to modify N here\n"
   ]
  },
  {
   "cell_type": "markdown",
   "metadata": {},
   "source": [
    "4. Write code in the cell below that plays one round of \"rock-paper-scissors\" with the computer. Use integers 0,1,2 to represent the player and computer choices: 0=rock, 1=paper, 2=scissors. The player will enter one of these integers for her choice. The computer's choice will be randomly generated using a unique seed (`srand()`) and `rand()`. Output who the winner is (human, or computer), or if the game results in a tie.\n",
    "\n",
    "   Some initial code is present in the cell to allow you to experiment with `srand` and `rand` functions."
   ]
  },
  {
   "cell_type": "code",
   "execution_count": null,
   "metadata": {},
   "outputs": [],
   "source": [
    "#include <cstdlib>\n",
    "#include <ctime>\n",
    "\n",
    "// initialize the random number generator with a unique seed\n",
    "srand(time(NULL));"
   ]
  },
  {
   "cell_type": "code",
   "execution_count": null,
   "metadata": {},
   "outputs": [],
   "source": [
    "cout << rand() << endl;\n",
    "cout << rand() % 3 << endl;\n",
    "cout << \"The maximum integer that can be generated randomly is \" << RAND_MAX;"
   ]
  },
  {
   "cell_type": "code",
   "execution_count": null,
   "metadata": {},
   "outputs": [],
   "source": [
    "// write code for playing rock-paper-scissors here.\n"
   ]
  }
 ],
 "metadata": {
  "kernelspec": {
   "display_name": "C++17",
   "language": "C++17",
   "name": "xcpp17"
  },
  "language_info": {
   "codemirror_mode": "text/x-c++src",
   "file_extension": ".cpp",
   "mimetype": "text/x-c++src",
   "name": "c++",
   "version": "17"
  }
 },
 "nbformat": 4,
 "nbformat_minor": 4
}
