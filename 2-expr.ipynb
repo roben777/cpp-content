{
 "cells": [
  {
   "cell_type": "markdown",
   "metadata": {},
   "source": [
    "# Week 2: variables and expressions\n",
    "Reading: Chapter 2 in zyBook \"Programming in C++\" by Vahid and Lysecky.\n",
    "\n",
    "In this chapter, we will look more closely at data types, expressions, and variables in C++."
   ]
  },
  {
   "cell_type": "code",
   "execution_count": 1,
   "metadata": {},
   "outputs": [],
   "source": [
    "// Setup cell\n",
    "#include <iostream>\n",
    "#include <iomanip>\n",
    "using namespace std;"
   ]
  },
  {
   "cell_type": "markdown",
   "metadata": {},
   "source": [
    "## Variables ##\n",
    "\n",
    "Can you define what programming language variables are?\n",
    "\n",
    "A: Variables are used to store information (input by the user, or calculated by the program). We can use the name of the variable in expressions to work with the information stored.\n",
    "\n",
    "Why do we need variables? \n",
    "1. Process input.\n",
    "2. Store information that needs to change.\n",
    "\n",
    "Variable life cycle: **declare, initialize, use/modify.**\n",
    "\n",
    "It is important to remember these 3 phases in the life of a variable. Typical programming errors arise when we omit to initialize a variable! (The compiler tells us when we forget to declare, but not when we forget to initialize).\n"
   ]
  },
  {
   "cell_type": "markdown",
   "metadata": {},
   "source": [
    "### Initializing and modifying variables (assignment)\n",
    "\n",
    "We saw in Chapter 1 how we can declare variables. To initialize or modify the value of variables, we use an assignment operation.\n",
    "\n",
    "Syntax:\n",
    "\n",
    "``` [variable name] = [expression]; ```"
   ]
  },
  {
   "cell_type": "code",
   "execution_count": 2,
   "metadata": {},
   "outputs": [
    {
     "name": "stdout",
     "output_type": "stream",
     "text": [
      "5"
     ]
    }
   ],
   "source": [
    "// declare an integer variable. Assign value 5.\n",
    "int x;\n",
    "x = 5;\n",
    "// verification, output x\n",
    "cout << x;"
   ]
  },
  {
   "cell_type": "markdown",
   "metadata": {},
   "source": [
    "**Exercise**: declare a variable y that holds fractional values and initialize it to the negative of x. Then, output the value of y."
   ]
  },
  {
   "cell_type": "code",
   "execution_count": 3,
   "metadata": {},
   "outputs": [
    {
     "name": "stdout",
     "output_type": "stream",
     "text": [
      "-5"
     ]
    }
   ],
   "source": [
    "float y;\n",
    "y = -x;\n",
    "cout << y;"
   ]
  },
  {
   "cell_type": "markdown",
   "metadata": {},
   "source": [
    "**Exercise**: declare a string variable *person* and initialize it to the string \"Jane\". Then, output *name*."
   ]
  },
  {
   "cell_type": "code",
   "execution_count": 4,
   "metadata": {},
   "outputs": [
    {
     "name": "stdout",
     "output_type": "stream",
     "text": [
      "Jane"
     ]
    }
   ],
   "source": [
    "string person;\n",
    "person = \"Jane\";\n",
    "cout << person;"
   ]
  },
  {
   "cell_type": "markdown",
   "metadata": {},
   "source": [
    "### Additional types in C++\n",
    "Besides the three fundamental types from Chapter 1 (```int```, ```float```, ```string```) we can use some more type varieties. We still have the three main categories of *string*, *integers*, and *fractional numbers*.\n",
    "\n",
    "| Purpose | Type | Example | Notes |\n",
    "|:--------|:----:|:--------|:------|\n",
    "| Whole numbers | ```unsigned int``` | 234, 287900 | Represents only **positive** integers|\n",
    "| Whole numbers and characters | ```char```  | 127, -128, 'a', '5' | Used to represent characters in ASCII format |\n",
    "| Whole numbers | ```long int``` | 12345678 | larger range of values than ```int``` |\n",
    "| Whole numbers | ```long long int``` | 1234567890 | larger range of values than ```long int``` |\n",
    "| Fractional numbers| ```double``` | 12345.67 | computation errors are smaller than ```float```, larger range of values |\n",
    "| Fractional numbers | ```long double``` | 12345.67 | computation errors smaller than ```double```, larger range of values |\n",
    "\n",
    "To learn more about how characters and strings (which are a sequence of characters) are represented, read about the [ASCII code](https://en.wikipedia.org/wiki/ASCII)."
   ]
  },
  {
   "cell_type": "markdown",
   "metadata": {},
   "source": [
    "## More examples using assignment\n",
    "Compute the area of several geometrical figures (squares, rectangles, discs. Formula for the area of a disc of radius $r$: $A=\\pi r^2$. Output the total area for all figures. \n",
    "\n",
    "Read the dimensions of each figure in a code cell dedicated for that figure."
   ]
  },
  {
   "cell_type": "code",
   "execution_count": 5,
   "metadata": {},
   "outputs": [
    {
     "name": "stdout",
     "output_type": "stream",
     "text": [
      "25\n",
      "625"
     ]
    }
   ],
   "source": [
    "// read the length of the side of a square\n",
    "double length;\n",
    "cin >> length;\n",
    "// compute the area\n",
    "cout << length*length;"
   ]
  },
  {
   "cell_type": "code",
   "execution_count": 6,
   "metadata": {},
   "outputs": [
    {
     "name": "stdout",
     "output_type": "stream",
     "text": [
      "25 2\n",
      "50"
     ]
    }
   ],
   "source": [
    "// read the length and width of a rectangle\n",
    "double length, width;\n",
    "cin >> length >> width;\n",
    "// compute the area\n",
    "cout << length*width;"
   ]
  },
  {
   "cell_type": "code",
   "execution_count": 7,
   "metadata": {},
   "outputs": [
    {
     "name": "stdout",
     "output_type": "stream",
     "text": [
      "3\n",
      "28.26"
     ]
    }
   ],
   "source": [
    "// read the radius of a disc \n",
    "// use 3.14 for pi\n",
    "// declare a variable for the radius. What type should we choose?\n",
    "double radius;  // flexibility to handle fractional radius\n",
    "cin >> radius;\n",
    "// compute the area\n",
    "cout << radius*radius*3.14;"
   ]
  },
  {
   "cell_type": "markdown",
   "metadata": {},
   "source": [
    "We can read the dimensions of the figures, we can calculate their areas, and we can output the calculated value for each figure. But how do we maintain the total area for all the figures we read? "
   ]
  },
  {
   "cell_type": "markdown",
   "metadata": {},
   "source": [
    "## Assignment with the same variable on both sides (accumulation)\n",
    "Let's analyze how assignment is executed. Example:\n",
    "```int x;\n",
    "x = 3*3;```\n",
    "1. Declaration: a memory location for x is reserved.\n",
    "2. Assignment: \n",
    "  1. The expression on the right side of `=` is evaluated. Result is 9.\n",
    "  2. The result is then stored in the memory location for $x$."
   ]
  },
  {
   "cell_type": "code",
   "execution_count": 8,
   "metadata": {},
   "outputs": [
    {
     "name": "stdout",
     "output_type": "stream",
     "text": [
      "9"
     ]
    }
   ],
   "source": [
    "// Let's run the example\n",
    "int x;\n",
    "x = 3*3;\n",
    "cout << x;"
   ]
  },
  {
   "cell_type": "markdown",
   "metadata": {},
   "source": [
    "**Question**: can we use other variables in the expression on the right side of `=`?\n",
    "\n",
    "YES. Any C++ expression can be used. "
   ]
  },
  {
   "cell_type": "code",
   "execution_count": 10,
   "metadata": {},
   "outputs": [
    {
     "name": "stdout",
     "output_type": "stream",
     "text": [
      "9"
     ]
    }
   ],
   "source": [
    "int x,y;\n",
    "y = 3;\n",
    "x = y*y;\n",
    "cout << x;"
   ]
  },
  {
   "cell_type": "markdown",
   "metadata": {},
   "source": [
    "Let's analyze the second assignment instruction:\n",
    "1. The expression on the right side of `=` is evaluated.\n",
    "2. The result of the expression is stored in the memory location for $x$.\n",
    "\n",
    "How about if we use $x$ on the righht side of `=`? Can we do that?\n",
    "\n",
    "YES. Any C++ expression can be used."
   ]
  },
  {
   "cell_type": "code",
   "execution_count": 4,
   "metadata": {},
   "outputs": [],
   "source": [
    "int x=0;"
   ]
  },
  {
   "cell_type": "code",
   "execution_count": 8,
   "metadata": {},
   "outputs": [
    {
     "name": "stdout",
     "output_type": "stream",
     "text": [
      "4"
     ]
    }
   ],
   "source": [
    "x = x+1;\n",
    "cout << x;"
   ]
  },
  {
   "cell_type": "code",
   "execution_count": 13,
   "metadata": {},
   "outputs": [
    {
     "name": "stdout",
     "output_type": "stream",
     "text": [
      "8"
     ]
    }
   ],
   "source": [
    "// another \"shorter\" variant for increment by 1\n",
    "x++;\n",
    "cout << x;"
   ]
  },
  {
   "cell_type": "markdown",
   "metadata": {},
   "source": [
    "Let's analyze the assignment instruction:\n",
    "1. evaluate the right hand side (x+1)\n",
    "2. the result of the evaluation is assigned back to $x$ thus increasing its value by 1"
   ]
  },
  {
   "cell_type": "markdown",
   "metadata": {},
   "source": [
    "**Exercise**: Write an assignment instruction that doubles the value of variable $x$."
   ]
  },
  {
   "cell_type": "code",
   "execution_count": 9,
   "metadata": {},
   "outputs": [
    {
     "name": "stdout",
     "output_type": "stream",
     "text": [
      "8"
     ]
    }
   ],
   "source": [
    "x = x*2;\n",
    "cout << x;"
   ]
  },
  {
   "cell_type": "code",
   "execution_count": 17,
   "metadata": {},
   "outputs": [
    {
     "name": "stdout",
     "output_type": "stream",
     "text": [
      "64"
     ]
    }
   ],
   "source": [
    "// another \"shorter\" variant\n",
    "x *= 2;\n",
    "cout << x;"
   ]
  },
  {
   "cell_type": "markdown",
   "metadata": {},
   "source": [
    "**Exercise**. Write an assignment that decreases the value of $x$ by 1."
   ]
  },
  {
   "cell_type": "code",
   "execution_count": 11,
   "metadata": {},
   "outputs": [
    {
     "name": "stdout",
     "output_type": "stream",
     "text": [
      "6"
     ]
    }
   ],
   "source": [
    "x = x-1;\n",
    "cout << x;"
   ]
  },
  {
   "cell_type": "markdown",
   "metadata": {},
   "source": [
    "### Declaration and initialization on the same line\n",
    "\n",
    "Initialization is so important, that C++ lets us declare and initialize variables on the same line:"
   ]
  },
  {
   "cell_type": "code",
   "execution_count": 2,
   "metadata": {},
   "outputs": [
    {
     "name": "stdout",
     "output_type": "stream",
     "text": [
      "2 3"
     ]
    }
   ],
   "source": [
    "int y=2, z=3;\n",
    "cout << y << \" \" << z;"
   ]
  },
  {
   "cell_type": "markdown",
   "metadata": {},
   "source": [
    "## Variables and named constants\n",
    "A good programming habit is to use named constants instead of literals (values) in expressions. This improves the readability of your code (how easy can the source code be understood by programmers). It does not change the behaviour of the program.\n",
    "\n",
    "For example: we can use named constant PI for 3.14 in the disc area formula. This improves the clarity of the expression. The programmer knows we use constant $\\pi$ and not some value 3.14 that could represent something else.\n",
    "\n",
    "**Named constants**: variables declared with modifier ```const```. These variables **must** be initialized at declaration. ```const``` means the variable cannot be modified once it is created, so assignment after creation is not allowed.\n",
    "\n",
    "**Naming convention**: the names of constant variables are written in uppercase letters."
   ]
  },
  {
   "cell_type": "code",
   "execution_count": 4,
   "metadata": {},
   "outputs": [],
   "source": [
    "// declaration  with initialization\n",
    "const double PI=3.1415927;"
   ]
  },
  {
   "cell_type": "code",
   "execution_count": 5,
   "metadata": {},
   "outputs": [
    {
     "name": "stderr",
     "output_type": "stream",
     "text": [
      "\u001b[1minput_line_13:3:3: \u001b[0m\u001b[0;1;31merror: \u001b[0m\u001b[1mcannot assign to variable 'PI' with const-qualified type 'const double'\u001b[0m\n",
      "PI=0;\n",
      "\u001b[0;1;32m~~^\n",
      "\u001b[0m\u001b[1minput_line_11:3:14: \u001b[0m\u001b[0;1;30mnote: \u001b[0mvariable 'PI' declared const here\u001b[0m\n",
      "const double PI=3.1415927;\n",
      "\u001b[0;1;32m~~~~~~~~~~~~~^~~~~~~~~~~~\n",
      "\u001b[0m"
     ]
    },
    {
     "ename": "Interpreter Error",
     "evalue": "",
     "output_type": "error",
     "traceback": [
      "Interpreter Error: "
     ]
    }
   ],
   "source": [
    "// try to change PI in code\n",
    "PI=0;"
   ]
  },
  {
   "cell_type": "markdown",
   "metadata": {},
   "source": [
    "Let us rewrite the ouptut of the area for the circular figure using now the named constant PI:"
   ]
  },
  {
   "cell_type": "code",
   "execution_count": 4,
   "metadata": {},
   "outputs": [
    {
     "name": "stdout",
     "output_type": "stream",
     "text": [
      "2\n",
      "12.5664"
     ]
    }
   ],
   "source": [
    "// input radius of a disc, output area\n",
    "double radius;\n",
    "cin >> radius;\n",
    "cout << radius*radius*PI;"
   ]
  },
  {
   "cell_type": "markdown",
   "metadata": {},
   "source": [
    "## Calculating the total areas of geometrical figures (c'ed)\n",
    "We can use accumulation to maintain the total area of geometrical figures. \n",
    "1. Declare a variable for the total area and initialize it to zero.\n",
    "2. Input the dimensions of the figures, calculate the area, and accumulate the value in the total variable. Execute this as many times as needed.\n",
    "3. Finally, output the total area stored in the variable."
   ]
  },
  {
   "cell_type": "code",
   "execution_count": 6,
   "metadata": {},
   "outputs": [],
   "source": [
    "// declare and initialize the total area variable\n",
    "double total_area=0.0;"
   ]
  },
  {
   "cell_type": "code",
   "execution_count": 10,
   "metadata": {},
   "outputs": [
    {
     "name": "stdout",
     "output_type": "stream",
     "text": [
      "10\n"
     ]
    }
   ],
   "source": [
    "// input the square\n",
    "double length;\n",
    "cin >> length;\n",
    "// accumulate the area\n",
    "total_area = total_area + length*length;"
   ]
  },
  {
   "cell_type": "code",
   "execution_count": 12,
   "metadata": {},
   "outputs": [
    {
     "name": "stdout",
     "output_type": "stream",
     "text": [
      "1 2\n"
     ]
    },
    {
     "data": {
      "text/plain": [
       "416.15927"
      ]
     },
     "execution_count": 12,
     "metadata": {},
     "output_type": "execute_result"
    }
   ],
   "source": [
    "// input the rectangle\n",
    "double length, width;\n",
    "cin >> length >> width;\n",
    "// accumulate the area\n",
    "total_area += length*width;  // shortcut notation"
   ]
  },
  {
   "cell_type": "code",
   "execution_count": 7,
   "metadata": {},
   "outputs": [
    {
     "name": "stdout",
     "output_type": "stream",
     "text": [
      "10\n"
     ]
    }
   ],
   "source": [
    "// input radius of a disc\n",
    "double radius;\n",
    "cin >> radius;\n",
    "total_area += radius*radius*PI;"
   ]
  },
  {
   "cell_type": "code",
   "execution_count": 13,
   "metadata": {},
   "outputs": [
    {
     "name": "stdout",
     "output_type": "stream",
     "text": [
      "416.159"
     ]
    }
   ],
   "source": [
    "// output the total area\n",
    "cout << total_area;"
   ]
  },
  {
   "cell_type": "markdown",
   "metadata": {},
   "source": [
    "## Type conversion with ```static_cast```; integer and fractional division\n",
    "In C++, an expression can be written with variables and values of different types. For example, `2.5 * 2` is the product of a `double` literal with an `int` literal. In such cases, an *implicit type conversion* takes place: integer 2 is coverted to a `double` before the product is evaluated.\n",
    "\n",
    "**Guiding principle for implicit type conversion**: avoid loss of information. The integer is converted to `double` because converting the `double` to `int` would lose the fractional value `0.5`."
   ]
  },
  {
   "cell_type": "code",
   "execution_count": 15,
   "metadata": {},
   "outputs": [
    {
     "name": "stdout",
     "output_type": "stream",
     "text": [
      "0.766667"
     ]
    }
   ],
   "source": [
    "double v=2.3;\n",
    "cout << v/3;"
   ]
  },
  {
   "cell_type": "markdown",
   "metadata": {},
   "source": [
    "Sometimes the programmer needs to override the implicit conversion by the compiler. Other times, the programmer may need to select a specific type for an expression. This is calles *explicit cpnversion*.\n",
    "\n",
    "**Example:** Division ```/``` evaluates to the quotient from integer division if the arguments are ```int``` expressions. If arguments are ```float``` or ```double```, then fractional division is performed.\n",
    "\n",
    "When explicit conversion is needed most often:\n",
    "1. Convert from float/double to int to drop the decimal part of the value.\n",
    "2. Convert **at least** one of the arguments of '/' from int to double/float so that a fractional division is carried out."
   ]
  },
  {
   "cell_type": "markdown",
   "metadata": {},
   "source": [
    "### Syntax\n",
    "```static_cast<type>(expression)```\n",
    "\n",
    "### Examples:"
   ]
  },
  {
   "cell_type": "code",
   "execution_count": 17,
   "metadata": {},
   "outputs": [
    {
     "name": "stdout",
     "output_type": "stream",
     "text": [
      "2"
     ]
    }
   ],
   "source": [
    "double v=2.5;\n",
    "cout << static_cast<int>(v);"
   ]
  },
  {
   "cell_type": "code",
   "execution_count": 2,
   "metadata": {},
   "outputs": [
    {
     "name": "stdout",
     "output_type": "stream",
     "text": [
      "Quotient 0\n",
      "Remainder 1"
     ]
    }
   ],
   "source": [
    "cout << \"Quotient \" << 1/2 << endl;  // what is the value?\n",
    "// answer, 0 (quotient)\n",
    "// What is the remainder of 1/2?\n",
    "cout << \"Remainder \" << 1 % 2;"
   ]
  },
  {
   "cell_type": "markdown",
   "metadata": {},
   "source": [
    "To obtain fractional value $1/2 = 0.5$ we must convert the arguments to float or double."
   ]
  },
  {
   "cell_type": "code",
   "execution_count": 3,
   "metadata": {},
   "outputs": [
    {
     "name": "stdout",
     "output_type": "stream",
     "text": [
      "Fraction 1/2 is 0.5\n",
      "Fraction 1/2 is 0.5\n"
     ]
    }
   ],
   "source": [
    "cout << \"Fraction 1/2 is \" << static_cast<double>(1)/2 << endl;\n",
    "cout << \"Fraction 1/2 is \" << 1/2.0 << endl;"
   ]
  },
  {
   "cell_type": "markdown",
   "metadata": {},
   "source": [
    "**Exercise**: Input the radius of a circle and calculate its area as an integer, by dropping its fractional part."
   ]
  },
  {
   "cell_type": "code",
   "execution_count": 5,
   "metadata": {},
   "outputs": [
    {
     "name": "stdout",
     "output_type": "stream",
     "text": [
      "10\n",
      "314"
     ]
    }
   ],
   "source": [
    "double radius;\n",
    "cin >> radius;\n",
    "cout << static_cast<int>(PI * radius * radius);"
   ]
  },
  {
   "cell_type": "markdown",
   "metadata": {},
   "source": [
    "**Exercise**: input a positive fractional value $x$. Output the largest integer $y$ that is a multiple of 10 and $y \\le x$. Some examples:\n",
    "\n",
    "| $x$ | $y$ |\n",
    "|:---:|:---:|\n",
    "| 234.65 | 230 |\n",
    "| 3400.0 | 3400 |\n",
    "| 7.5 | 0 |"
   ]
  },
  {
   "cell_type": "code",
   "execution_count": 19,
   "metadata": {},
   "outputs": [
    {
     "name": "stdout",
     "output_type": "stream",
     "text": [
      "234.65\n",
      "230\n"
     ]
    }
   ],
   "source": [
    "double x;\n",
    "cin >> x;\n",
    "cout << (static_cast<int>(x/10)) * 10 << endl;"
   ]
  },
  {
   "cell_type": "markdown",
   "metadata": {},
   "source": [
    "**Exercise**: read a floating point value and store it in a variable named $x$. Calculate and output $x$ rounded to the nearest integer. Do not use branching (if statements), use only arithmetic expressions.\n",
    "\n",
    "**Example**: 2.6 is rounded to 3; 2.4 is rounded to 2."
   ]
  },
  {
   "cell_type": "code",
   "execution_count": 7,
   "metadata": {},
   "outputs": [
    {
     "name": "stdout",
     "output_type": "stream",
     "text": [
      "4.12\n",
      "4\n",
      "4"
     ]
    }
   ],
   "source": [
    "float x;\n",
    "int rounded_value=0;\n",
    "cin >> x;\n",
    "// not actually calculating the rounded integer, \n",
    "// but showing the rounded value on the output\n",
    "cout << fixed << setprecision(0) << x << endl;\n",
    "// now, write an expression that has the value 26 if you are given 25.72 \n",
    "rounded_value = static_cast<int>(x+0.5);\n",
    "cout << rounded_value;"
   ]
  },
  {
   "cell_type": "markdown",
   "metadata": {},
   "source": [
    "## Strings, input/output\n",
    "Operations (concatenation, etc), later on, once we know about arrays.\n",
    "Review: how to we declare a string variable (holds text)?\n",
    "\n",
    "Assignment: use string literal on the right side of =.\n",
    "\n",
    "Input with >>. The space character is a boundary between data. \n",
    "\n",
    "If you need space as part of data, read a string with getline"
   ]
  },
  {
   "cell_type": "code",
   "execution_count": 8,
   "metadata": {},
   "outputs": [],
   "source": [
    "#include <string>"
   ]
  },
  {
   "cell_type": "code",
   "execution_count": 9,
   "metadata": {},
   "outputs": [
    {
     "name": "stdout",
     "output_type": "stream",
     "text": [
      "Sue Ellen\n",
      "Sue and Ellen"
     ]
    },
    {
     "data": {
      "text/plain": [
       "@0x7f7401642b60"
      ]
     },
     "execution_count": 9,
     "metadata": {},
     "output_type": "execute_result"
    }
   ],
   "source": [
    "// declare a variable called name that can hold strings\n",
    "string name, middle_name;\n",
    "// initialize strig variables? cin/assignment/declare&intialize\n",
    "name = \"John\"; // double quotes for string literal.\n",
    "\n",
    "cin >> name >> middle_name;\n",
    "\n",
    "cout << name << \" and \" << middle_name ;  // space is a \"separator\" for data. To read Sue, we will need another cin >>"
   ]
  },
  {
   "cell_type": "code",
   "execution_count": 10,
   "metadata": {},
   "outputs": [
    {
     "name": "stdout",
     "output_type": "stream",
     "text": [
      "Mary Sue\n",
      "Mary Sue"
     ]
    }
   ],
   "source": [
    "// read Mary Sue in name:\n",
    "getline(cin, name); \n",
    "\n",
    "cout << name;"
   ]
  },
  {
   "cell_type": "code",
   "execution_count": 11,
   "metadata": {},
   "outputs": [
    {
     "name": "stdout",
     "output_type": "stream",
     "text": [
      "Mary Sue is smart."
     ]
    }
   ],
   "source": [
    "// we can always use assignment and initialize string variables with\n",
    "// text literals that contain spaces\n",
    "name = \"Mary Sue is smart.\";\n",
    "cout << name;"
   ]
  },
  {
   "cell_type": "markdown",
   "metadata": {},
   "source": [
    "**Exercise**: read the names of three of your favourite characters. List them each on a separate line."
   ]
  },
  {
   "cell_type": "code",
   "execution_count": null,
   "metadata": {},
   "outputs": [],
   "source": []
  },
  {
   "cell_type": "markdown",
   "metadata": {},
   "source": [
    "**Exercise**: Read the full name (first name, space, last name) and age (an integer) of two of your favourite personalities. Output the name and the age + 10."
   ]
  },
  {
   "cell_type": "code",
   "execution_count": 13,
   "metadata": {},
   "outputs": [
    {
     "name": "stdout",
     "output_type": "stream",
     "text": [
      "Justin Bieber\n",
      "22\n",
      "Justin Bieber 32\n"
     ]
    }
   ],
   "source": [
    "string fullname1, fullname2;\n",
    "int age1, age2;\n",
    "getline(cin, fullname1);\n",
    "cin >> age1;\n",
    "// read fullname2 and age2 here\n",
    "\n",
    "cout << fullname1 << \" \" << age1 + 10 << endl;\n",
    "// output fullname2 and modified age2\n"
   ]
  },
  {
   "cell_type": "markdown",
   "metadata": {},
   "source": [
    "## Math functions\n",
    "1. Exponent, $x^y$. ```pow(x, y)```\n",
    "2. Absolute value, $|x|$. ```fabs(x)```\n",
    "3. Square root, $\\sqrt{x}$. ```sqrt(x)```\n",
    "\n",
    "Note: must ```#include <cmath>```"
   ]
  },
  {
   "cell_type": "code",
   "execution_count": 14,
   "metadata": {},
   "outputs": [
    {
     "name": "stdout",
     "output_type": "stream",
     "text": [
      "26"
     ]
    }
   ],
   "source": [
    "#include <cmath>\n",
    "cout << ceil(25.33);"
   ]
  },
  {
   "cell_type": "code",
   "execution_count": 18,
   "metadata": {},
   "outputs": [
    {
     "name": "stdout",
     "output_type": "stream",
     "text": [
      "8.00000\n",
      "2.50000\n",
      "1.41421\n"
     ]
    }
   ],
   "source": [
    "cout << setprecision(5);\n",
    "cout << pow(2,3) << endl;\n",
    "cout << fabs(-2.5) << endl;\n",
    "cout << sqrt(2) << endl;"
   ]
  },
  {
   "cell_type": "markdown",
   "metadata": {},
   "source": [
    "## Recap\n",
    "1. Lifecycle of variables: declare, initialize, use.\n",
    "2. Declaration: ``` type name;```\n",
    "3. Types: bool, float, double (fractional), string (```#include <string>```), int, char, byte.\n",
    "4. Type modifier: unsigned, long. These define specific version of the main type, for example longer versions for double and int."
   ]
  },
  {
   "cell_type": "markdown",
   "metadata": {},
   "source": [
    "**What is type?** Type tells us and the compiler what (1) range of values can be stored in variables and (2) what operations can be performed on the variables. For example, ```/``` evaluates differently wether the arguments are integer or fractional, ```+``` is addition for numerical arguments, and concatenation for strings."
   ]
  },
  {
   "cell_type": "code",
   "execution_count": null,
   "metadata": {},
   "outputs": [],
   "source": []
  }
 ],
 "metadata": {
  "kernelspec": {
   "display_name": "C++17",
   "language": "C++17",
   "name": "xcpp17"
  },
  "language_info": {
   "codemirror_mode": "text/x-c++src",
   "file_extension": ".cpp",
   "mimetype": "text/x-c++src",
   "name": "c++",
   "version": "17"
  }
 },
 "nbformat": 4,
 "nbformat_minor": 4
}
