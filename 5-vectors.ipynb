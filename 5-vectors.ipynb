{
 "cells": [
  {
   "cell_type": "code",
   "execution_count": 1,
   "metadata": {},
   "outputs": [],
   "source": [
    "// SETUP CELL\n",
    "#include <iostream>\n",
    "#include <string>\n",
    "#include <vector>\n",
    "using namespace std;"
   ]
  },
  {
   "cell_type": "markdown",
   "metadata": {},
   "source": [
    "# Vectors\n",
    "Regular variables vs vectors (arrays).\n",
    "\n",
    "Regular variables | Vectors (arrays) | C-arrays\n",
    "--- | --- | ---\n",
    "Store one value | Store many values of the same type (**an ordered collection**) | Many values, same type\n",
    "Declaration: ```int x, float x, ...``` | ```vector<int> x(size), vector<float> x(size), ...``` | ```int x[size];```\n",
    "Declare and initialize: ```float x=2.3;``` | ```vector<float> x = {1.0, 2.1, 3.2};``` | ```int x[] = {0,1,2};```\n",
    "Access: $x$ | Access $x[index]$ or $x$.at(index) | Access $x[index]$\n",
    "No includes needed | To use, must ```#include <vector>``` | No includes needed\n",
    "\n",
    "```size```: number of elements.\\\n",
    "```index```: order of element in the collection. First element at 0.\n",
    "\n",
    "**OBS**: using vectors is preferred. There is additional overhead with vectors, but memory management is automatic. Should read about pointers to appreciate c-arrays."
   ]
  },
  {
   "cell_type": "markdown",
   "metadata": {},
   "source": [
    "## Declare\n",
    "1. Declare a vector of 10 integer elements.\n",
    "2. Declare a vector of 5 fractional elements.\n",
    "3. Declare an vector of 3 string elements."
   ]
  },
  {
   "cell_type": "code",
   "execution_count": 16,
   "metadata": {},
   "outputs": [],
   "source": [
    "vector<int> xi(10);  // size of vector is 10\n",
    "vector<double> xd(5);  // size of the vector is 5\n",
    "vector<string> xs(3);  // size is 3"
   ]
  },
  {
   "cell_type": "code",
   "execution_count": 7,
   "metadata": {},
   "outputs": [
    {
     "name": "stdout",
     "output_type": "stream",
     "text": [
      "2 0\n",
      "0 5.5"
     ]
    }
   ],
   "source": [
    "xi[0] = 2;\n",
    "xd[1] = 5.5;\n",
    "cout << xi[0] << \" \" << xi[1] << endl;\n",
    "cout << xd[0] << ' ' << xd[1]; "
   ]
  },
  {
   "cell_type": "markdown",
   "metadata": {},
   "source": [
    "### Declare, initialize and use c-arrays\n",
    "We prefer vectors, but you should know about c-arrays too. See also 5.13 and 16.2 in the zyBook. We will work with vectors in cpsc 1620.\n",
    "1. Array of 10 integers.\n",
    "2. Declare and initialize a vector of 3 doubles.\n",
    "3. Store and access values in c-arrays."
   ]
  },
  {
   "cell_type": "code",
   "execution_count": 9,
   "metadata": {},
   "outputs": [
    {
     "name": "stdout",
     "output_type": "stream",
     "text": [
      "2\n",
      "1.5\n"
     ]
    }
   ],
   "source": [
    "int xci[10];\n",
    "double xf[] = {1.0, 1.5, 2.0}; // size is inferred from the initializer list (3 literals)\n",
    "xi[0] = 2;\n",
    "cout << xi[0] << endl;\n",
    "cout << xf[1] << endl;"
   ]
  },
  {
   "cell_type": "code",
   "execution_count": 11,
   "metadata": {},
   "outputs": [
    {
     "name": "stdout",
     "output_type": "stream",
     "text": [
      "-1\n",
      "0\n"
     ]
    },
    {
     "ename": "Standard Exception",
     "evalue": "vector::_M_range_check: __n (which is 10) >= this->size() (which is 10)",
     "output_type": "error",
     "traceback": [
      "Standard Exception: vector::_M_range_check: __n (which is 10) >= this->size() (which is 10)"
     ]
    }
   ],
   "source": [
    "// out of bounds access?\n",
    "int i=10;\n",
    "cout << xi[i] << endl;\n",
    "cout << xci[i] << endl;\n",
    "cout << xi.at(i) << endl;\n",
    "xi[i] = -1;"
   ]
  },
  {
   "cell_type": "markdown",
   "metadata": {},
   "source": [
    "### Vector type vs C-array\n",
    "Funtion at() in vector checks for access out of bounds, automatically."
   ]
  },
  {
   "cell_type": "code",
   "execution_count": 12,
   "metadata": {},
   "outputs": [
    {
     "ename": "Standard Exception",
     "evalue": "vector::_M_range_check: __n (which is 10) >= this->size() (which is 10)",
     "output_type": "error",
     "traceback": [
      "Standard Exception: vector::_M_range_check: __n (which is 10) >= this->size() (which is 10)"
     ]
    }
   ],
   "source": [
    "vector<int> xi(10);\n",
    "int i = 0;\n",
    "xi.at(i) = -1; // OK\n",
    "xi.at(10) = 1; // out of bounds"
   ]
  },
  {
   "cell_type": "markdown",
   "metadata": {},
   "source": [
    "## Declare and initialize \n",
    "1. Declare and initialize a vector of 4 double values\n",
    "2. Declare and initialize a vector of 3 strings to \"Anna\", \"Jon\", and \"Feng\""
   ]
  },
  {
   "cell_type": "code",
   "execution_count": 13,
   "metadata": {},
   "outputs": [],
   "source": [
    "vector<string> names={\"Anna\", \"Jon\", \"Feng\"};  // notice there is no size explicitly given;\n",
    "   // the vector is automatically assigned the size of the initializer list {...}\n",
    "vector<double> xf={1.0, 2.0, 3.0, 4.0};"
   ]
  },
  {
   "cell_type": "code",
   "execution_count": 15,
   "metadata": {},
   "outputs": [
    {
     "name": "stdout",
     "output_type": "stream",
     "text": [
      "Feng\n",
      "e"
     ]
    }
   ],
   "source": [
    "cout << names.at(2) << endl;\n",
    "// print the second letter (e) of the thirds string in names\n",
    "cout << (names.at(2))[1];"
   ]
  },
  {
   "cell_type": "markdown",
   "metadata": {},
   "source": [
    "**Exercise:** output the position of letter 'o' in the second string of array `names` (use `find`)"
   ]
  },
  {
   "cell_type": "code",
   "execution_count": null,
   "metadata": {},
   "outputs": [],
   "source": []
  },
  {
   "cell_type": "markdown",
   "metadata": {},
   "source": [
    "## Access (read/write)\n",
    "1. Assign the 3rd element of vector `xi` to value 7 and print it.\n",
    "2. Print last element of ```names```.\n",
    "3. Change second element of ```names``` to \"Joan\"."
   ]
  },
  {
   "cell_type": "code",
   "execution_count": 17,
   "metadata": {},
   "outputs": [
    {
     "name": "stdout",
     "output_type": "stream",
     "text": [
      "7"
     ]
    }
   ],
   "source": [
    "// Task 1\n",
    "xi[2] = 7;\n",
    "cout << xi[2];"
   ]
  },
  {
   "cell_type": "code",
   "execution_count": 20,
   "metadata": {},
   "outputs": [
    {
     "name": "stdout",
     "output_type": "stream",
     "text": [
      "Feng\n",
      "4"
     ]
    }
   ],
   "source": [
    "// Task 2\n",
    "// names.size() is a function that returns the number of elements in a vector \n",
    "cout << names.at(names.size()-1) << endl;; \n",
    "// Task 2.B\n",
    "// Output the length of the last string in array names\n",
    "cout << (names.at(names.size()-1)).length();"
   ]
  },
  {
   "cell_type": "code",
   "execution_count": 21,
   "metadata": {},
   "outputs": [],
   "source": [
    "// Task 3\n",
    "names.at(2) = \"Joan\"; // error, this is the 3rd element"
   ]
  },
  {
   "cell_type": "code",
   "execution_count": 22,
   "metadata": {},
   "outputs": [
    {
     "name": "stdout",
     "output_type": "stream",
     "text": [
      "Anna Jon Joan"
     ]
    }
   ],
   "source": [
    "cout << names.at(0) << \" \" << names.at(1) << \" \" << names.at(2);"
   ]
  },
  {
   "cell_type": "markdown",
   "metadata": {},
   "source": [
    "## Resize\n",
    "What is the difference between vector and C-arrays?\n",
    "    \n",
    "   Vector | C-array\n",
    "   --- | ---\n",
    "   Collection of items of the same type | Collection of items of the same type\n",
    "   Number of items can change (dynamic array) | Number of items is fixed\n",
    "    \n",
    "Change the size of array ```xi``` to 4."
   ]
  },
  {
   "cell_type": "code",
   "execution_count": 3,
   "metadata": {},
   "outputs": [
    {
     "name": "stdout",
     "output_type": "stream",
     "text": [
      "10\n",
      "4"
     ]
    }
   ],
   "source": [
    "// original size 10\n",
    "vector <int> xi={1,2,3,4,5,6,7,8,9,0};\n",
    "cout << xi.size() << endl;\n",
    "xi.resize(4);\n",
    "cout << xi.size();"
   ]
  },
  {
   "cell_type": "code",
   "execution_count": 6,
   "metadata": {},
   "outputs": [
    {
     "name": "stdout",
     "output_type": "stream",
     "text": [
      "2 4 "
     ]
    },
    {
     "ename": "Standard Exception",
     "evalue": "vector::_M_range_check: __n (which is 4) >= this->size() (which is 4)",
     "output_type": "error",
     "traceback": [
      "Standard Exception: vector::_M_range_check: __n (which is 4) >= this->size() (which is 4)"
     ]
    }
   ],
   "source": [
    "// what happened to values at indices 0-3?\n",
    "cout << xi.at(1) << \" \" << xi.at(3) << \" \" << xi.at(4);"
   ]
  },
  {
   "cell_type": "markdown",
   "metadata": {},
   "source": [
    "## Access all elements in a vector\n",
    "1. Use a counter controlled loop (for loop is best choice)\n",
    "2. Access element using the counter variable in the loop body.\n",
    "3. Element access: vector[index] or vector.at(index)\n",
    "\n",
    "v[i] | v.at(i)\n",
    "--- | ---\n",
    "Array notation | Function notation\n",
    "Can be used to modify the item | Can be used to modify the item\n",
    "No range check | Throws an exception if out of range\n",
    "Use with array AND vectors | Use with vectors only\n",
    "\n",
    "*Example* Declare and initialize vector of integers. Output vector elements. Decrease elements by 1."
   ]
  },
  {
   "cell_type": "code",
   "execution_count": 6,
   "metadata": {},
   "outputs": [],
   "source": [
    "// output the elements of a vector already initialized\n",
    "vector<int> vec={2,5,7,10,7,5,99};"
   ]
  },
  {
   "cell_type": "code",
   "execution_count": 8,
   "metadata": {},
   "outputs": [
    {
     "name": "stdout",
     "output_type": "stream",
     "text": [
      "1 6 9 6 4 98 4 \n"
     ]
    }
   ],
   "source": [
    "for (int i=0; i<vec.size(); i++) {\n",
    "    cout << vec.at(i) << ' ';\n",
    "}\n",
    "cout << endl;"
   ]
  },
  {
   "cell_type": "code",
   "execution_count": 3,
   "metadata": {},
   "outputs": [
    {
     "name": "stdout",
     "output_type": "stream",
     "text": [
      "1 4 6 9 6 4 98 "
     ]
    }
   ],
   "source": [
    "// decrease all elements by 1\n",
    "for (int i=0; i<vec.size(); i++) {\n",
    "    vec.at(i)--;\n",
    "}\n",
    "\n",
    "for (int i=0; i < vec.size(); i++) {\n",
    "    cout << vec.at(i) << ' ';\n",
    "}"
   ]
  },
  {
   "cell_type": "markdown",
   "metadata": {},
   "source": [
    "Suppose we want to swap the first two elements in the array, to get 4,1,6,9,...."
   ]
  },
  {
   "cell_type": "code",
   "execution_count": 4,
   "metadata": {},
   "outputs": [],
   "source": [
    "// exchange the values of vec.at(0) with vec.at(1)\n",
    "int temp;\n",
    "temp = vec.at(0);\n",
    "vec.at(0) = vec.at(1);\n",
    "vec.at(1) = temp;"
   ]
  },
  {
   "cell_type": "markdown",
   "metadata": {},
   "source": [
    "What happens if we swap ever pair of adjacent values in the array?"
   ]
  },
  {
   "cell_type": "code",
   "execution_count": 7,
   "metadata": {},
   "outputs": [],
   "source": [
    "// code to rotate the array\n",
    "for (int i=0; i<vec.size()-1; i++) {\n",
    "    int temp = vec.at(i);\n",
    "    vec.at(i) = vec.at(i+1);\n",
    "    vec.at(i+1) = temp;\n",
    "}"
   ]
  },
  {
   "cell_type": "markdown",
   "metadata": {},
   "source": [
    "**Exercises:**\n",
    "1. Compute the sum of all elements in array `vec`.\n",
    "2. The example above rotates the vector to the left (all elements move to a position 1 less than current, and the first element moves to the end. Revise the code so that we rotate the array to the right (every element moves toa position 1 more than current, and the last element becomes the first)."
   ]
  },
  {
   "cell_type": "markdown",
   "metadata": {},
   "source": [
    "## Access all elements in a vector (II) (since C++11)\n",
    "1. Range based for loop\n",
    "2. Syntax (read only): \n",
    "```\n",
    "for (auto e: vec) {\n",
    "   statements\n",
    "}\n",
    "```\n",
    "3. Syntax (modify elements):\n",
    "```\n",
    "for (auto & e: vec) {\n",
    "   statements\n",
    "}\n",
    "```\n",
    "4. May be used for simple access or element modification, eg: output elements. Use counter controlled for loop for more control, ex: when the index is needed. \n",
    "5. Advantage of range based for: more compact notation (similar to python).\n",
    "6. ```auto``` (since C++ 11): type specifier. Replaced by compiler with appropriate type, deduced from initializer expression. In range based for, type deduced from the type of the vector.\n",
    "7. ```auto``` is optional. Can use specific type too.\n",
    "8. ```&``` means type is **reference**. We will encounter references again when we talk about user defined functions. Initializer must be another variable or element of vector array (like in range based for)."
   ]
  },
  {
   "cell_type": "code",
   "execution_count": 5,
   "metadata": {},
   "outputs": [
    {
     "name": "stdout",
     "output_type": "stream",
     "text": [
      "x is 1\n"
     ]
    }
   ],
   "source": [
    "auto x=3;  // initializer must be supplied. \n",
    "cout << \"x is \" << x/2 << endl;"
   ]
  },
  {
   "cell_type": "code",
   "execution_count": 8,
   "metadata": {},
   "outputs": [
    {
     "name": "stdout",
     "output_type": "stream",
     "text": [
      "x is 4\n"
     ]
    }
   ],
   "source": [
    "int x = 7;\n",
    "auto & refer_x = x;  // refer_x and x are the same variable!\n",
    "refer_x = 4;\n",
    "cout << \"x is \" << x << endl;"
   ]
  },
  {
   "cell_type": "code",
   "execution_count": 7,
   "metadata": {},
   "outputs": [
    {
     "name": "stdout",
     "output_type": "stream",
     "text": [
      "2 5 7 10 7 5 99 "
     ]
    }
   ],
   "source": [
    "// print vec with range based for loop\n",
    "for (int element: vec) {\n",
    "    cout << element << ' ';\n",
    "}"
   ]
  },
  {
   "cell_type": "code",
   "execution_count": 9,
   "metadata": {},
   "outputs": [
    {
     "name": "stdout",
     "output_type": "stream",
     "text": [
      "\n",
      "2 5 7 10 7 5 99 "
     ]
    }
   ],
   "source": [
    "cout << endl;\n",
    "for (auto element: vec) { // without reference (vec will not change)\n",
    "    element--;\n",
    "}\n",
    "for (int element: vec) {\n",
    "    cout << element << ' ';\n",
    "}"
   ]
  },
  {
   "cell_type": "code",
   "execution_count": 10,
   "metadata": {},
   "outputs": [
    {
     "name": "stdout",
     "output_type": "stream",
     "text": [
      "2 5 7 10 7 5 99 \n",
      "1 4 6 9 6 4 98 "
     ]
    }
   ],
   "source": [
    "// print vec with range based for loop\n",
    "for (int element: vec) {\n",
    "    cout << element << ' ';\n",
    "}\n",
    "cout << endl;\n",
    "for (auto & element: vec) { // with reference (vec will change)\n",
    "    element--;\n",
    "}\n",
    "for (int element: vec) {\n",
    "    cout << element << ' ';\n",
    "}"
   ]
  },
  {
   "cell_type": "markdown",
   "metadata": {},
   "source": [
    "**Note**: Vectors can also be accessed with *iterators* (not demonstrated in 1620)."
   ]
  },
  {
   "cell_type": "markdown",
   "metadata": {},
   "source": [
    "**Exercise:** Write a range based for loop that computes the sum of the entries in an int vector."
   ]
  },
  {
   "cell_type": "code",
   "execution_count": null,
   "metadata": {},
   "outputs": [],
   "source": []
  },
  {
   "cell_type": "markdown",
   "metadata": {},
   "source": [
    "## Add/remove elements at the end of a vector (stack data structure)\n",
    "1. ```vec.push_back(val)```: adds at the end\n",
    "2. ```vec.back()```: returns the last value; can we change the last value?\n",
    "3. ```vec.pop_back()```: removes the last value"
   ]
  },
  {
   "cell_type": "code",
   "execution_count": 12,
   "metadata": {},
   "outputs": [
    {
     "name": "stdout",
     "output_type": "stream",
     "text": [
      "8\n",
      "2 4 6 \n",
      "2 4 6 10 \n",
      "2 4 6 10 100 "
     ]
    }
   ],
   "source": [
    "vector<int> vec={2,4,6,8};\n",
    "cout << vec.back() << endl;\n",
    "vec.pop_back();\n",
    "for (auto e: vec) {\n",
    "    cout << e << \" \";\n",
    "}\n",
    "cout << endl;\n",
    "vec.push_back(10);\n",
    "for (auto e: vec) {\n",
    "    cout << e << \" \";\n",
    "}\n",
    "cout << endl;\n",
    "// vec.back() = 100;  // use in assignment, like with [] notation\n",
    "vec.push_back(100);\n",
    "for (auto e: vec) {\n",
    "    cout << e << \" \";\n",
    "}"
   ]
  },
  {
   "cell_type": "code",
   "execution_count": null,
   "metadata": {},
   "outputs": [],
   "source": [
    "vec.push_back(200);"
   ]
  },
  {
   "cell_type": "code",
   "execution_count": null,
   "metadata": {},
   "outputs": [],
   "source": [
    "for (auto e: vec) {\n",
    "    cout << e << ' ';\n",
    "}\n",
    "cout << \"Size is \" << vec.size();"
   ]
  },
  {
   "cell_type": "markdown",
   "metadata": {},
   "source": [
    "**Exercise:** duplicate the last value in the array and grow the array by one element. "
   ]
  },
  {
   "cell_type": "code",
   "execution_count": null,
   "metadata": {},
   "outputs": [],
   "source": []
  },
  {
   "cell_type": "markdown",
   "metadata": {},
   "source": [
    "## Complex access patterns (when index is needed)\n",
    "**Example:** Convolution filter (smoothing an image in image analysis). Given a vector of doubles (original sharp image), change each value to the average of its neighboring values.\n",
    "```\n",
    "         |- index i; so left neighbour is indexed by (i-1), right neighbour by (i+1)\n",
    "         v\n",
    "img = {2 4 7}\n",
    "replace 2 by avg(2,4) = 3\n",
    "replace 4 by avg(2,4,7) = 4.33\n",
    "replace 7 by avg(4,7) = 5.5\n",
    "```"
   ]
  },
  {
   "cell_type": "code",
   "execution_count": null,
   "metadata": {},
   "outputs": [],
   "source": [
    "// first and last elements are special cases, because they have only 2 neighbours incl themselves\n",
    "vector<double> img = {2.5, 6, 9, 3, 10, 33, 4, -7, 43};\n",
    "vector<double> imgcopy(img.size());  // for output only, so our input\n",
    "                                    // comes only from the original array\n",
    "\n",
    "// write your code here"
   ]
  },
  {
   "cell_type": "code",
   "execution_count": null,
   "metadata": {},
   "outputs": [],
   "source": [
    "// output imgcopy\n",
    "for (auto element: imgcopy) {\n",
    "    cout << element << ' ';\n",
    "}"
   ]
  },
  {
   "cell_type": "markdown",
   "metadata": {},
   "source": [
    "**Exercise**: Sorting. Revisit the code that swaps every pair of adjacent elements in the array. Modify the code so that we swap a pair of consecutive entries only if the element to the left is greater than the element to the right. What does this do to the array if we repeat the procedure many times? "
   ]
  },
  {
   "cell_type": "code",
   "execution_count": null,
   "metadata": {},
   "outputs": [],
   "source": [
    "// code to rotate the array\n",
    "// Modify to swap only if vec[i]>vec[i+1]\n",
    "for (int i=0; i<vec.size()-1; i++) {\n",
    "    int temp = vec.at(i);\n",
    "    vec.at(i) = vec.at(i+1);\n",
    "    vec.at(i+1) = temp;\n",
    "}"
   ]
  },
  {
   "cell_type": "markdown",
   "metadata": {},
   "source": [
    "## Two dimensional vectors\n",
    "A vector can be created to store any legal C++ data type. In particular, a vector can contain a vector. For example, we can define a vector `mat` that contains 4 vectors of type `double`. Each one of the 4 vectors contains 5 elements of type `double`. Notice that we created a matrix with 4 rows and 5 columns."
   ]
  },
  {
   "cell_type": "code",
   "execution_count": 16,
   "metadata": {},
   "outputs": [],
   "source": [
    "// declare a 4 x 5 matrix\n",
    "vector<vector<double>> mat(4, vector<double>(5));"
   ]
  },
  {
   "cell_type": "markdown",
   "metadata": {},
   "source": [
    "This way of initializing a vector is new: we can provide two arguments: the first is an integer (vector size); the second is a value (the value to be copied to all entries in the array)."
   ]
  },
  {
   "cell_type": "code",
   "execution_count": 14,
   "metadata": {},
   "outputs": [
    {
     "name": "stdout",
     "output_type": "stream",
     "text": [
      "9.8 9.8 9.8 9.8 9.8 9.8 9.8 "
     ]
    }
   ],
   "source": [
    "// let's try:\n",
    "vector <double> vc(7,9.8);\n",
    "for (auto element: vc) {\n",
    "    cout << element << \" \";\n",
    "}"
   ]
  },
  {
   "cell_type": "markdown",
   "metadata": {},
   "source": [
    "... Back to the matrix:"
   ]
  },
  {
   "cell_type": "markdown",
   "metadata": {},
   "source": [
    "**Exercise**: declare a 2 by 3 matrix of integers; integers to be initialized to 10.\n",
    "```\n",
    "10 10 10 \n",
    "10 10 10\n",
    "```"
   ]
  },
  {
   "cell_type": "code",
   "execution_count": null,
   "metadata": {},
   "outputs": [],
   "source": []
  },
  {
   "cell_type": "code",
   "execution_count": 19,
   "metadata": {},
   "outputs": [],
   "source": [
    "// assign some elements\n",
    "mat[0][0] = 10;\n",
    "mat[1][2] = -1;"
   ]
  },
  {
   "cell_type": "code",
   "execution_count": 20,
   "metadata": {},
   "outputs": [
    {
     "name": "stdout",
     "output_type": "stream",
     "text": [
      "10 0 0 0 0 \n",
      "0 0 -1 0 0 \n",
      "0 0 0 0 0 \n",
      "0 0 0 0 0 \n"
     ]
    }
   ],
   "source": [
    "// output the matrix\n",
    "for (int i = 0; i < mat.size(); i++) {\n",
    "    for (int j = 0; j < mat[i].size(); j++) {\n",
    "        cout << mat[i][j] << \" \";\n",
    "    }\n",
    "    cout << endl;\n",
    "}"
   ]
  },
  {
   "cell_type": "markdown",
   "metadata": {},
   "source": [
    "**Exercises:**\n",
    "1. Rewrite the matrix output code to use range based for loops.\n",
    "2. Declare a square matrix of size 4x4 that stores `double` values.\n",
    "3. Initialize the 4x4 matrix to the identity matrix (1 on the main diagonal, 0 everywhere else).\n",
    "4. Declare three 4x4 matrices. Initialize two of them to random values between 0 and 99. Assign the third matrix the sum of the other two. "
   ]
  },
  {
   "cell_type": "code",
   "execution_count": null,
   "metadata": {},
   "outputs": [],
   "source": []
  }
 ],
 "metadata": {
  "kernelspec": {
   "display_name": "C++17",
   "language": "C++17",
   "name": "xcpp17"
  },
  "language_info": {
   "codemirror_mode": "text/x-c++src",
   "file_extension": ".cpp",
   "mimetype": "text/x-c++src",
   "name": "c++",
   "version": "17"
  }
 },
 "nbformat": 4,
 "nbformat_minor": 4
}
